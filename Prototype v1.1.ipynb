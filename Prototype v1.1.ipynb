{
 "cells": [
  {
   "cell_type": "code",
   "execution_count": null,
   "metadata": {
    "collapsed": true
   },
   "outputs": [],
   "source": [
    "#imports\n",
    "from tkinter import *\n",
    "import os\n",
    "import re\n",
    "import time\n",
    "\n",
    "import telnetlib\n",
    "import getpass \n",
    "import sys\n",
    "import time\n",
    "import serial\n",
    "import threading\n",
    "\n",
    "import pandas as pd\n",
    "import numpy as np\n"
   ]
  },
  {
   "cell_type": "code",
   "execution_count": null,
   "metadata": {
    "collapsed": true
   },
   "outputs": [],
   "source": [
    "#generate \"main\" gui window in tkinter"
   ]
  },
  {
   "cell_type": "code",
   "execution_count": null,
   "metadata": {
    "collapsed": true
   },
   "outputs": [],
   "source": [
    "# Instrument Connection\n",
    "#module to:\n",
    "# 1. Prompt user to select NPORT port RMA instrument is connected to\n",
    "# 2. Create a telnet connection to both instruments\n",
    "# 3. Send wakeup to both instruments\n",
    "# 4. Alert user that connection successful\n"
   ]
  },
  {
   "cell_type": "code",
   "execution_count": null,
   "metadata": {
    "collapsed": true
   },
   "outputs": [],
   "source": [
    "# Compare Samples\n",
    "#module to:\n",
    "# 1. Collect 10 samples (1/min) from each instrument\n",
    "# 2. Compare samples at like timestamps(should be +/- 1s)\n",
    "# 3. Format data and present to user, advise pass/fail, generate comparison column as well"
   ]
  },
  {
   "cell_type": "code",
   "execution_count": null,
   "metadata": {
    "collapsed": true
   },
   "outputs": [],
   "source": [
    "# Compare Cals\n",
    "#module to:\n",
    "# 1. Prompt user for calibration sheet location\n",
    "# 2. Collect cals from instrument(dcal, #iidc)\n",
    "# 3. Compare Results\n",
    "# 4. Display side by side results AND suggest an action(pass/fail)\n",
    "# 5. If \"pass\" then continue after ~30seconds if \"fail\" pause and wait for user?"
   ]
  },
  {
   "cell_type": "code",
   "execution_count": null,
   "metadata": {
    "collapsed": true
   },
   "outputs": [],
   "source": [
    "# Cleanup\n",
    "# 1. Close telnet connections\n",
    "# 2. Save any relevant tables/data to files(not sure if any exists)\n",
    "\n"
   ]
  },
  {
   "cell_type": "code",
   "execution_count": null,
   "metadata": {
    "collapsed": true
   },
   "outputs": [],
   "source": []
  },
  {
   "cell_type": "code",
   "execution_count": null,
   "metadata": {
    "collapsed": true
   },
   "outputs": [],
   "source": []
  },
  {
   "cell_type": "code",
   "execution_count": null,
   "metadata": {
    "collapsed": true
   },
   "outputs": [],
   "source": []
  },
  {
   "cell_type": "code",
   "execution_count": null,
   "metadata": {
    "collapsed": true
   },
   "outputs": [],
   "source": []
  },
  {
   "cell_type": "code",
   "execution_count": null,
   "metadata": {
    "collapsed": true
   },
   "outputs": [],
   "source": []
  },
  {
   "cell_type": "code",
   "execution_count": null,
   "metadata": {
    "collapsed": true
   },
   "outputs": [],
   "source": []
  }
 ],
 "metadata": {
  "kernelspec": {
   "display_name": "Python 3",
   "language": "python",
   "name": "python3"
  },
  "language_info": {
   "codemirror_mode": {
    "name": "ipython",
    "version": 3
   },
   "file_extension": ".py",
   "mimetype": "text/x-python",
   "name": "python",
   "nbconvert_exporter": "python",
   "pygments_lexer": "ipython3",
   "version": "3.6.3"
  }
 },
 "nbformat": 4,
 "nbformat_minor": 2
}
