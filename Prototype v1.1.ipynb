{
 "cells": [
  {
   "cell_type": "code",
   "execution_count": 4,
   "metadata": {
    "collapsed": true
   },
   "outputs": [],
   "source": [
    "#imports\n",
    "from tkinter import *\n",
    "import os\n",
    "import re\n",
    "import time\n",
    "import datetime\n",
    "\n",
    "import telnetlib as tn\n",
    "import getpass \n",
    "import sys\n",
    "import time\n",
    "import serial\n",
    "import threading\n",
    "\n",
    "import pandas as pd\n",
    "import numpy as np\n",
    "\n",
    "os.environ.setdefault('MAGICK_HOME', '/usr/local/Cellar/imagemagick@6/6.9.9-34/')\n",
    "from wand.image import Image\n",
    "from PIL import Image as PI\n",
    "import pyocr\n",
    "import pyocr.builders\n",
    "import io\n",
    "\n",
    "\n",
    "\n",
    "#global defines\n",
    "nport_ip = \"10.136.1.99\"\n",
    "ref_port = \"4001\"\n",
    "\n"
   ]
  },
  {
   "cell_type": "code",
   "execution_count": 105,
   "metadata": {},
   "outputs": [
    {
     "name": "stdout",
     "output_type": "stream",
     "text": [
      "b'SBE37SI-RS485 V 3.2  5679\\r\\ntemperature:  25-Mar-17\\r\\n    TA0 = 4.261456e-05\\r\\n    TA1 = 2.731360e-04\\r\\n    TA2 = -2.206636e-06\\r\\n    TA3 = 1.490857e-07\\r\\nconductivity:  25-Mar-17\\r\\n    G = -9.994807e-01\\r\\n    H = 1.566288e-01\\r\\n    I = -3.317297e-04\\r\\n    J = 4.905268e-05\\r\\n    CPCOR = -9.570000e-08\\r\\n    CTCOR = 3.250000e-06\\r\\n    WBOTC = 1.185617e-06\\r\\nreference pressure = 2007.0 decibars\\r\\n<Executed/>\\r\\n'\n"
     ]
    }
   ],
   "source": [
    "#generate \"main\" gui window in tkinter\n",
    "def onclick(): \n",
    "        pass\n",
    "\n",
    "#updates the main status label with given text.  Could be accomplished by just calling \"main_status.config\" from within the main function...\n",
    "def update_txt(next_instruction):\n",
    "    main_status.config(text=next_instruction)   \n",
    "    \n",
    "#def connex(port):\n",
    "    #print(port)\n",
    "    \n",
    "win = Tk()\n",
    "\n",
    "win.title('SBE CTD Prequalification')\n",
    "win.geometry('800x600') # Size 200, 200\n",
    "\n",
    "text = Text(win, height=2)\n",
    "\n",
    "#labels\n",
    "main_status = Label(win, text=\"Waiting for device selection\")\n",
    "calsheet_status_label = Label(win, text=\"\")\n",
    "\n",
    "port2 = Button(win, text=\"4002 - 485\", command=lambda: instrument_connection(\"4002\"))\n",
    "port3 = Button(win, text=\"4003 - 232\", command=lambda: instrument_connection(\"4003\"))\n",
    "port4 = Button(win, text=\"4004\", command=lambda: instrument_connection(\"4004\"))\n",
    "\n",
    "text.insert(INSERT, \"Please connect the RMA device and specify the port used\")\n",
    "\n",
    "text.pack()\n",
    "port2.pack()\n",
    "port3.pack()\n",
    "port4.pack()\n",
    "main_status.pack()\n",
    "calsheet_status_label.pack()\n",
    "\n",
    "\n",
    "#btn = Button(win, text='Hello', command=hello)\n",
    "#btn.pack(expand=YES, fill=BOTH)\n",
    "\n",
    "mainloop()\n"
   ]
  },
  {
   "cell_type": "code",
   "execution_count": 91,
   "metadata": {},
   "outputs": [],
   "source": [
    "# Instrument Connection\n",
    "#module to:\n",
    "# 1. Prompt user to select NPORT port RMA instrument is connected to (maybe goes in main gui window?)\n",
    "# 2. Create a telnet connection to both instruments\n",
    "# 3. Send wakeup to both instruments\n",
    "# 4. Alert user that connection successful\n",
    "\n",
    "#entry point to module\n",
    "def instrument_connection(rma_port):\n",
    "    global nport_ip\n",
    "    global ref_port\n",
    "    device_dict = {\n",
    "        \"4002\" : \"id?\\r\\n\",\n",
    "        \"4003\" : \"\\r\\n\"\n",
    "    }\n",
    "    try:\n",
    "        ref_telnet = telnetlib.Telnet(nport_ip, ref_port) #open connection\n",
    "        rma_telnet = telnetlib.Telnet(nport_ip, rma_port)\n",
    "        update_txt(\"Connecting, please wait...\")\n",
    "        time.sleep(1)\n",
    "        ref_telnet.write(device_dict['4003'].encode(\"ascii\"))  #wakeup both instruments\n",
    "        rma_telnet.write((device_dict[rma_port]).encode(\"ascii\"))\n",
    "        time.sleep(1)\n",
    "        rma_telnet.write((device_dict[rma_port]).encode(\"ascii\"))\n",
    "        time.sleep(1)\n",
    "        rma_ok = rma_telnet.read_very_eager()\n",
    "        ref_ok = ref_telnet.read_very_eager()\n",
    "        #print(str(ref_ok))\n",
    "        #print(str(rma_ok))\n",
    "        ref_telnet.close() #close reference connection, not done with rma yet\n",
    "        rma_telnet.close()\n",
    "    except:\n",
    "        print(\"bricked it\")\n",
    "        ref_telnet.close()\n",
    "        rma_telnet.close()\n",
    "    \n",
    "    update_txt(\"Connection Successful\")\n",
    "    calsheet_status_label.config(text=\"Collecting RMA calibration data...\")    \n",
    "    compare_cals(rma_port) #pass the telnet connection to compare_cals function    "
   ]
  },
  {
   "cell_type": "code",
   "execution_count": null,
   "metadata": {
    "collapsed": true
   },
   "outputs": [],
   "source": [
    "# Compare Samples\n",
    "#module to:\n",
    "# 1. Collect 10 samples (1/min) from each instrument\n",
    "# 2. Compare samples at like timestamps(should be +/- 1s)\n",
    "# 3. Format data and present to user, advise pass/fail, generate comparison column as well"
   ]
  },
  {
   "cell_type": "code",
   "execution_count": 104,
   "metadata": {},
   "outputs": [],
   "source": [
    "# Compare Cals\n",
    "#module to:\n",
    "# 1. Prompt user for calibration sheet location\n",
    "# 2. Collect cals from instrument(dcal, #iidc)\n",
    "# 3. Compare Results\n",
    "# 4. Display side by side results AND suggest an action(pass/fail)\n",
    "# 5. If \"pass\" then continue after ~30seconds if \"fail\" pause and wait for user?\\\n",
    "def compare_cals(rma_port):\n",
    "    if rma_port == \"4002\":\n",
    "        ins_caldata = get_cals_37()\n",
    "    if rma_port == \"4003\":\n",
    "        ins_caldata = get_cals_19()\n",
    "    sheet_caldata = get_sheet_cals()\n",
    "    \n",
    "def get_cals_37():\n",
    "    global nport_ip\n",
    "    rma_telnet = telnetlib.Telnet(nport_ip, \"4002\")\n",
    "    rma_telnet.write(\"id?\\r\\n\".encode(\"ascii\"))\n",
    "    time.sleep(1)\n",
    "    sbe_id = str(rma_telnet.read_very_eager())[5:7]\n",
    "    rma_telnet.write((\"#\"+sbe_id+\"DC\\r\\n\").encode(\"ascii\"))\n",
    "    time.sleep(1)\n",
    "    #print(rma_telnet.read_very_eager()) #cal data to be parsed\n",
    "    caldata = rma_telnet.read_very_eager()\n",
    "    rma_telnet.close()\n",
    "    return caldata\n",
    "def get_cals_19():\n",
    "    rma_telnet = telnetlib.Telnet(nport_ip, \"4002\")\n",
    "    rma_telnet.write(\"DCal\\r\\n\".encode(\"ascii\"))\n",
    "    time.sleep(1)\n",
    "    #print(rma_telnet.read_very_eager()) #cal data to be parsed\n",
    "    caldata = rma_telnet.read_very_eager()\n",
    "    rma_telnet.close()\n",
    "    return caldata\n",
    "\n",
    "def get_sheet_cals():\n",
    "    "
   ]
  },
  {
   "cell_type": "code",
   "execution_count": null,
   "metadata": {
    "collapsed": true
   },
   "outputs": [],
   "source": [
    "# Cleanup\n",
    "# 1. Close telnet connections\n",
    "# 2. Save any relevant tables/data to files(not sure if any exists)\n",
    "\n"
   ]
  },
  {
   "cell_type": "code",
   "execution_count": 5,
   "metadata": {},
   "outputs": [
    {
     "name": "stdout",
     "output_type": "stream",
     "text": [
      "10.136.1.99\n"
     ]
    }
   ],
   "source": [
    "#noodle tab\n",
    "def test_func():\n",
    "    global nport_ip\n",
    "    test = nport_ip\n",
    "    return test\n",
    "\n",
    "print(test_func())"
   ]
  },
  {
   "cell_type": "code",
   "execution_count": null,
   "metadata": {
    "collapsed": true
   },
   "outputs": [],
   "source": []
  },
  {
   "cell_type": "code",
   "execution_count": 89,
   "metadata": {},
   "outputs": [
    {
     "name": "stdout",
     "output_type": "stream",
     "text": [
      "2\n"
     ]
    }
   ],
   "source": [
    "try:\n",
    "    two = 1+1\n",
    "except:\n",
    "    three = 1+1\n",
    "    \n",
    "print(two)"
   ]
  },
  {
   "cell_type": "code",
   "execution_count": null,
   "metadata": {
    "collapsed": true
   },
   "outputs": [],
   "source": []
  },
  {
   "cell_type": "code",
   "execution_count": null,
   "metadata": {
    "collapsed": true
   },
   "outputs": [],
   "source": []
  },
  {
   "cell_type": "code",
   "execution_count": null,
   "metadata": {
    "collapsed": true
   },
   "outputs": [],
   "source": []
  }
 ],
 "metadata": {
  "kernelspec": {
   "display_name": "Python 3",
   "language": "python",
   "name": "python3"
  },
  "language_info": {
   "codemirror_mode": {
    "name": "ipython",
    "version": 3
   },
   "file_extension": ".py",
   "mimetype": "text/x-python",
   "name": "python",
   "nbconvert_exporter": "python",
   "pygments_lexer": "ipython3",
   "version": "3.6.3"
  }
 },
 "nbformat": 4,
 "nbformat_minor": 2
}
