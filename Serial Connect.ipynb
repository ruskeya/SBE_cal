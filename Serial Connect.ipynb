{
 "cells": [
  {
   "cell_type": "code",
   "execution_count": 2,
   "metadata": {
    "collapsed": true
   },
   "outputs": [],
   "source": [
    "import serial\n",
    "import time"
   ]
  },
  {
   "cell_type": "code",
   "execution_count": 3,
   "metadata": {},
   "outputs": [
    {
     "name": "stdout",
     "output_type": "stream",
     "text": [
      "/dev/cu.usbserial-FTXQJ5NX\n",
      "b'\\x00SBE 19plus\\r\\nS>'\n"
     ]
    }
   ],
   "source": [
    "ser = serial.Serial('/dev/cu.usbserial-FTXQJ5NX', 9600, timeout=1)\n",
    "print(ser.name)\n",
    "ser.reset_output_buffer()\n",
    "time.sleep(2)\n",
    "ser.write(b'DCal\\r\\n')\n",
    "time.sleep(1)\n",
    "#s = b\"\"\n",
    "#while (ser.in_waiting > 0):\n",
    "s = ser.read(1000)\n",
    "\n",
    "ser.close()\n",
    "\n",
    "print(str(s))"
   ]
  },
  {
   "cell_type": "code",
   "execution_count": 54,
   "metadata": {
    "collapsed": true
   },
   "outputs": [],
   "source": [
    "ser.close()\n",
    "ser.close()"
   ]
  },
  {
   "cell_type": "code",
   "execution_count": 19,
   "metadata": {
    "collapsed": true
   },
   "outputs": [],
   "source": [
    "ser = serial.Serial('/dev/tty.usbserial-FTXQJ5NX', 9600)\n",
    "ser.close()"
   ]
  }
 ],
 "metadata": {
  "kernelspec": {
   "display_name": "Python 3",
   "language": "python",
   "name": "python3"
  },
  "language_info": {
   "codemirror_mode": {
    "name": "ipython",
    "version": 3
   },
   "file_extension": ".py",
   "mimetype": "text/x-python",
   "name": "python",
   "nbconvert_exporter": "python",
   "pygments_lexer": "ipython3",
   "version": "3.6.3"
  }
 },
 "nbformat": 4,
 "nbformat_minor": 2
}
