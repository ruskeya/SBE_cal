{
 "cells": [
  {
   "cell_type": "code",
   "execution_count": 45,
   "metadata": {
    "collapsed": true
   },
   "outputs": [],
   "source": [
    "import serial\n",
    "import time\n",
    "#from datetime import datetime\n",
    "import datetime"
   ]
  },
  {
   "cell_type": "code",
   "execution_count": 47,
   "metadata": {},
   "outputs": [
    {
     "name": "stdout",
     "output_type": "stream",
     "text": [
      "/dev/cu.usbserial-FTXQJ5NX\n",
      "[('', '2018/02/05 18:49:04:751860'), ('21.894', '2018/02/05 18:49:04:763231'), ('21.894', '2018/02/05 18:49:04:836381'), ('21.894', '2018/02/05 18:49:05:076900'), ('21.894', '2018/02/05 18:49:05:332537')]\n"
     ]
    }
   ],
   "source": [
    "ser = serial.Serial('/dev/cu.usbserial-FTXQJ5NX', 9600, timeout=1)\n",
    "print(ser.name)\n",
    "ser.reset_output_buffer()\n",
    "time.sleep(2)\n",
    "ser.write(b'TT\\r\\n')\n",
    "temptime = []\n",
    "time.sleep(1)\n",
    "num_samples = 0\n",
    "while(num_samples < 5):\n",
    "    temptime.append((str(ser.readline())[3:-6], datetime.datetime.now().strftime('%Y/%m/%d %H:%M:%S:%f')))\n",
    "    num_samples += 1\n",
    "ser.close()\n",
    "\n",
    "print(str(temptime))"
   ]
  },
  {
   "cell_type": "code",
   "execution_count": null,
   "metadata": {
    "collapsed": true
   },
   "outputs": [],
   "source": []
  },
  {
   "cell_type": "code",
   "execution_count": 16,
   "metadata": {},
   "outputs": [
    {
     "name": "stdout",
     "output_type": "stream",
     "text": [
      "i= 1\n",
      "k= 0\n",
      "k= 1\n",
      "i= 2\n",
      "k= 1\n",
      "i= 3\n",
      "k= 1\n",
      "i= 4\n",
      "k= 1\n",
      "i= 5\n",
      "k= 1\n",
      "i= 6\n",
      "k= 1\n",
      "i= 7\n",
      "k= 1\n",
      "i= 8\n",
      "k= 1\n",
      "i= 9\n",
      "k= 1\n",
      "i= 10\n",
      "k= 1\n"
     ]
    }
   ],
   "source": [
    "i = 0\n",
    "k = 0\n",
    "while i <10 :\n",
    "    i += 1\n",
    "    print(\"i= \" + str(i))\n",
    "    while(k < 5) :\n",
    "        print(\"k= \" + str(k))\n",
    "        if k == 1:\n",
    "            break\n",
    "        k += 1\n"
   ]
  },
  {
   "cell_type": "code",
   "execution_count": 33,
   "metadata": {},
   "outputs": [
    {
     "data": {
      "text/plain": [
       "'ab'"
      ]
     },
     "execution_count": 33,
     "metadata": {},
     "output_type": "execute_result"
    }
   ],
   "source": [
    "ss = \"123abc\"\n",
    "ss[3:-1]"
   ]
  },
  {
   "cell_type": "code",
   "execution_count": null,
   "metadata": {
    "collapsed": true
   },
   "outputs": [],
   "source": []
  },
  {
   "cell_type": "code",
   "execution_count": null,
   "metadata": {
    "collapsed": true
   },
   "outputs": [],
   "source": []
  },
  {
   "cell_type": "code",
   "execution_count": null,
   "metadata": {
    "collapsed": true
   },
   "outputs": [],
   "source": []
  },
  {
   "cell_type": "code",
   "execution_count": null,
   "metadata": {
    "collapsed": true
   },
   "outputs": [],
   "source": []
  }
 ],
 "metadata": {
  "kernelspec": {
   "display_name": "Python 3",
   "language": "python",
   "name": "python3"
  },
  "language_info": {
   "codemirror_mode": {
    "name": "ipython",
    "version": 3
   },
   "file_extension": ".py",
   "mimetype": "text/x-python",
   "name": "python",
   "nbconvert_exporter": "python",
   "pygments_lexer": "ipython3",
   "version": "3.6.3"
  }
 },
 "nbformat": 4,
 "nbformat_minor": 2
}
