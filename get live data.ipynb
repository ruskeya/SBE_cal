{
 "cells": [
  {
   "cell_type": "code",
   "execution_count": 2,
   "metadata": {
    "collapsed": true
   },
   "outputs": [],
   "source": [
    "import serial\n",
    "import time\n",
    "#from datetime import datetime\n",
    "import datetime\n",
    "import pandas as pd"
   ]
  },
  {
   "cell_type": "code",
   "execution_count": 22,
   "metadata": {},
   "outputs": [],
   "source": [
    "#print(ser.name)\n",
    "def get_live(sample_type):\n",
    "    ser = serial.Serial('/dev/cu.usbserial-FTXQJ5NX', 9600, timeout=1)\n",
    "    sample_command = {'temp': b'TT\\r\\n',\n",
    "                      'press': b'TP\\r\\n',\n",
    "                      'cond': b'TC\\r\\n',\n",
    "                      'freq': b'TF\\r\\n',\n",
    "                      'T63': b'T63\\r\\n'\n",
    "                     }\n",
    "    ser.reset_output_buffer()\n",
    "    time.sleep(2)\n",
    "    ser.write(sample_command[sample_type])\n",
    "    temptime = []\n",
    "    #time.sleep(1)\n",
    "    num_samples = 0\n",
    "    while(num_samples < 100):\n",
    "        temptime.append([sample_type, str(ser.readline())[3:-6], datetime.datetime.now().strftime('%Y/%m/%d %H:%M:%S:%f')])\n",
    "        num_samples += 1\n",
    "    ser.close()\n",
    "    live = pd.DataFrame(temptime, columns=['Data Type', 'Data', 'Time'])\n",
    "    return live\n",
    "\n",
    "def collect_data():\n",
    "    output = pd.DataFrame(columns=['Data Type', 'Data', 'Time'])\n",
    "\n",
    "    for x in ['temp', 'press', 'cond', 'freq', 'T63']:\n",
    "        output = output.append(get_live(x))\n",
    "\n",
    "    return output\n",
    "\n",
    "        output.to_csv(\"output.csv\")\n",
    "#get_live(serial_connection, \"temp\").head()\n",
    "\n",
    "\n"
   ]
  },
  {
   "cell_type": "code",
   "execution_count": 9,
   "metadata": {},
   "outputs": [
    {
     "name": "stdout",
     "output_type": "stream",
     "text": [
      "b'TT\\r\\n'\n"
     ]
    }
   ],
   "source": [
    "sample_command = {'temp': b'TT\\r\\n',\n",
    "                      'press': b'TP\\r\\n',\n",
    "                      'cond': b'TC\\r\\n'\n",
    "                     }\n",
    "print(sample_command[\"temp\"])"
   ]
  },
  {
   "cell_type": "code",
   "execution_count": 16,
   "metadata": {},
   "outputs": [
    {
     "name": "stdout",
     "output_type": "stream",
     "text": [
      "i= 1\n",
      "k= 0\n",
      "k= 1\n",
      "i= 2\n",
      "k= 1\n",
      "i= 3\n",
      "k= 1\n",
      "i= 4\n",
      "k= 1\n",
      "i= 5\n",
      "k= 1\n",
      "i= 6\n",
      "k= 1\n",
      "i= 7\n",
      "k= 1\n",
      "i= 8\n",
      "k= 1\n",
      "i= 9\n",
      "k= 1\n",
      "i= 10\n",
      "k= 1\n"
     ]
    }
   ],
   "source": [
    "i = 0\n",
    "k = 0\n",
    "while i <10 :\n",
    "    i += 1\n",
    "    print(\"i= \" + str(i))\n",
    "    while(k < 5) :\n",
    "        print(\"k= \" + str(k))\n",
    "        if k == 1:\n",
    "            break\n",
    "        k += 1\n"
   ]
  },
  {
   "cell_type": "code",
   "execution_count": 33,
   "metadata": {},
   "outputs": [
    {
     "data": {
      "text/plain": [
       "'ab'"
      ]
     },
     "execution_count": 33,
     "metadata": {},
     "output_type": "execute_result"
    }
   ],
   "source": [
    "ss = \"123abc\"\n",
    "ss[3:-1]"
   ]
  },
  {
   "cell_type": "code",
   "execution_count": null,
   "metadata": {
    "collapsed": true
   },
   "outputs": [],
   "source": []
  },
  {
   "cell_type": "code",
   "execution_count": null,
   "metadata": {
    "collapsed": true
   },
   "outputs": [],
   "source": []
  },
  {
   "cell_type": "code",
   "execution_count": null,
   "metadata": {
    "collapsed": true
   },
   "outputs": [],
   "source": []
  },
  {
   "cell_type": "code",
   "execution_count": 73,
   "metadata": {},
   "outputs": [
    {
     "name": "stdout",
     "output_type": "stream",
     "text": [
      "['cu.usbserial-FTXQJ5NX']\n"
     ]
    }
   ],
   "source": [
    "#detect usb to serial ports in use\n",
    "import os\n",
    "import re\n",
    "devices = os.listdir('/dev/')\n",
    "found =[]\n",
    "for entry in devices:\n",
    "    srch = re.search(\"(cu.usbserial).*\", entry)  \n",
    "    if srch:\n",
    "        found.append(srch.group(0))\n",
    "print(found)\n",
    "    "
   ]
  }
 ],
 "metadata": {
  "kernelspec": {
   "display_name": "Python 3",
   "language": "python",
   "name": "python3"
  },
  "language_info": {
   "codemirror_mode": {
    "name": "ipython",
    "version": 3
   },
   "file_extension": ".py",
   "mimetype": "text/x-python",
   "name": "python",
   "nbconvert_exporter": "python",
   "pygments_lexer": "ipython3",
   "version": "3.6.3"
  }
 },
 "nbformat": 4,
 "nbformat_minor": 2
}
