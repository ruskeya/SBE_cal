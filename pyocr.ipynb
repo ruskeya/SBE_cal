{
 "cells": [
  {
   "cell_type": "code",
   "execution_count": 1,
   "metadata": {
    "collapsed": true
   },
   "outputs": [],
   "source": [
    "import os\n",
    "os.environ.setdefault('MAGICK_HOME', '/usr/local/Cellar/imagemagick@6/6.9.9-34/')\n",
    "from wand.image import Image\n",
    "from PIL import Image as PI\n",
    "import pyocr\n",
    "import pyocr.builders\n",
    "import io"
   ]
  },
  {
   "cell_type": "code",
   "execution_count": 2,
   "metadata": {
    "collapsed": true
   },
   "outputs": [],
   "source": [
    "tool = pyocr.get_available_tools()[0]\n",
    "lang = tool.get_available_languages()[0]\n",
    "#print(\"Available languages: %s\" % \", \".join(lang))"
   ]
  },
  {
   "cell_type": "code",
   "execution_count": 3,
   "metadata": {
    "collapsed": true
   },
   "outputs": [],
   "source": [
    "req_image = []\n",
    "final_text = []"
   ]
  },
  {
   "cell_type": "code",
   "execution_count": 4,
   "metadata": {
    "collapsed": true
   },
   "outputs": [],
   "source": [
    "image_pdf = Image(filename=\"sb19ocrtest.pdf\", resolution=300)\n",
    "image_jpeg = image_pdf.convert('jpeg')"
   ]
  },
  {
   "cell_type": "code",
   "execution_count": 6,
   "metadata": {
    "collapsed": true
   },
   "outputs": [],
   "source": [
    "for img in image_jpeg.sequence:\n",
    "    img_page = Image(image=img)\n",
    "    req_image.append(img_page.make_blob('jpeg'))"
   ]
  },
  {
   "cell_type": "code",
   "execution_count": 14,
   "metadata": {},
   "outputs": [
    {
     "name": "stdout",
     "output_type": "stream",
     "text": [
      "SYSTEM CONFIGURATION\n",
      "\n",
      "Model SBE 19plusV2 S/N 19-7792\n",
      "Instrument Type SBE 19plusv2 Seacat\n",
      "Firmware Version 3.1.8\n",
      "Communications 9600 baud, 8 data hits, no parity, one stop bit\n",
      "Memory 64MB\n",
      "Housing 600 meter (Acetron plastic)\n",
      "Zero Conductivity Raw Frequency 2769.78 Hz\n",
      "Number of Voltages Sampled: 0\n",
      "_, . Serial’Rs—ZSZC‘Sen’s’or\"\"“\"‘ M, \"\"SBE\"’63’”OthiC‘al“DissolvedOxygen\n",
      "Pump (SBE 5) 05-9030\n",
      "Oxygen (SBE 63) 63-1533\n",
      "\n",
      "Common SBE Factory Default Values for Sensor Delays:\n",
      "Seacat without external sensors ............................................ 0 Seconds\n",
      "Minimum delay for external sensors (voltage or serial) ............... 4 Seconds\n",
      "Common sensors with a 4 second delay include:\n",
      "Wet Labs ECO sensors, Seapoint STM and SCF, PAH sensors, SBE38, SBE50, Cy/cops-7, & 0883+\n",
      "\n",
      "Wet Labs 0-Star ............................................................... 10 Seconds\n",
      "SBE43 (0.5 mil membrane) ................................................ 30 Seconds\n",
      "SBE43 (1.0 mil membrane) ................................................ 40 Seconds\n",
      "SBE63 ............................................................................ 40 Seconds\n",
      "SBE18 or SBE27 ............................................................... 60 Seconds\n",
      "Configured Overall Delay Setting for this CTD (Moored Mode): 40 Seconds\n",
      "\n",
      "Note: Overall Voltage DeIay Setting is based on the longest time delay as needed. A list is provided above of\n",
      "common sensor delay values programmed into CTD when integrated and shipped from Sea-Bird Electronics. To\n",
      "recalculate this value when adding or removing sensors, please refer to CTD manual.\n"
     ]
    }
   ],
   "source": [
    "text_file = open(\"Output.txt\", \"w\")\n",
    "\n",
    "for img in req_image: \n",
    "    txt = tool.image_to_string(\n",
    "        PI.open(io.BytesIO(img)),\n",
    "        lang=lang,\n",
    "        builder=pyocr.builders.TextBuilder()\n",
    "    )\n",
    "    #text_file.write(txt)\n",
    "    final_text.append(txt)\n",
    "text_file.write(''.join(final_text))\n",
    "text_file.close()    \n",
    "    \n",
    "print(final_text[1])"
   ]
  },
  {
   "cell_type": "code",
   "execution_count": 8,
   "metadata": {
    "collapsed": true
   },
   "outputs": [],
   "source": [
    "text_file = open(\"Output.txt\", \"w\")\n",
    "\n",
    "text_file.write(final_text[0])\n",
    "\n",
    "text_file.close()"
   ]
  },
  {
   "cell_type": "code",
   "execution_count": null,
   "metadata": {
    "collapsed": true
   },
   "outputs": [],
   "source": []
  },
  {
   "cell_type": "code",
   "execution_count": 13,
   "metadata": {},
   "outputs": [
    {
     "data": {
      "text/plain": [
       "'hihosilver'"
      ]
     },
     "execution_count": 13,
     "metadata": {},
     "output_type": "execute_result"
    }
   ],
   "source": [
    "lst = [\"hi\", \"ho\", \"silver\"]\n",
    "\"\".join(lst)"
   ]
  },
  {
   "cell_type": "code",
   "execution_count": null,
   "metadata": {
    "collapsed": true
   },
   "outputs": [],
   "source": []
  },
  {
   "cell_type": "code",
   "execution_count": null,
   "metadata": {
    "collapsed": true
   },
   "outputs": [],
   "source": []
  },
  {
   "cell_type": "code",
   "execution_count": null,
   "metadata": {
    "collapsed": true
   },
   "outputs": [],
   "source": []
  }
 ],
 "metadata": {
  "kernelspec": {
   "display_name": "Python 3",
   "language": "python",
   "name": "python3"
  },
  "language_info": {
   "codemirror_mode": {
    "name": "ipython",
    "version": 3
   },
   "file_extension": ".py",
   "mimetype": "text/x-python",
   "name": "python",
   "nbconvert_exporter": "python",
   "pygments_lexer": "ipython3",
   "version": "3.6.3"
  }
 },
 "nbformat": 4,
 "nbformat_minor": 2
}
