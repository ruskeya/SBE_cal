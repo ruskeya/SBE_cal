{
 "cells": [
  {
   "cell_type": "code",
   "execution_count": 1,
   "metadata": {},
   "outputs": [],
   "source": [
    "import os\n",
    "os.environ.setdefault('MAGICK_HOME', '/usr/local/Cellar/imagemagick@6/6.9.9-34/')\n",
    "from wand.image import Image\n",
    "from PIL import Image as PI\n",
    "import pyocr\n",
    "import pyocr.builders\n",
    "import io"
   ]
  },
  {
   "cell_type": "code",
   "execution_count": 12,
   "metadata": {},
   "outputs": [
    {
     "name": "stdout",
     "output_type": "stream",
     "text": [
      "Available languages: e, n, g\n"
     ]
    }
   ],
   "source": [
    "tool = pyocr.get_available_tools()[0]\n",
    "lang = tool.get_available_languages()[0]\n",
    "#print(\"Available languages: %s\" % \", \".join(lang))"
   ]
  },
  {
   "cell_type": "code",
   "execution_count": 13,
   "metadata": {
    "collapsed": true
   },
   "outputs": [],
   "source": [
    "req_image = []\n",
    "final_text = []"
   ]
  },
  {
   "cell_type": "code",
   "execution_count": 17,
   "metadata": {
    "collapsed": true
   },
   "outputs": [],
   "source": [
    "image_pdf = Image(filename=\"sbe19.pdf\", resolution=300)\n",
    "image_jpeg = image_pdf.convert('jpeg')"
   ]
  },
  {
   "cell_type": "code",
   "execution_count": 18,
   "metadata": {
    "collapsed": true
   },
   "outputs": [],
   "source": [
    "for img in image_jpeg.sequence:\n",
    "    img_page = Image(image=img)\n",
    "    req_image.append(img_page.make_blob('jpeg'))"
   ]
  },
  {
   "cell_type": "code",
   "execution_count": 21,
   "metadata": {},
   "outputs": [
    {
     "name": "stdout",
     "output_type": "stream",
     "text": [
      "Sea-Bird Electronics, Inc.\n",
      "\n",
      "13431 NE 20th Street, Bellevue, WA 98005-2010 USA\n",
      "Phone: (+1) 425-643—9866 Fax (+1) 425643-9954 EmaII: seabird@seabird.com\n",
      "\n",
      "SENSOR SERIAL NUMBER: 7792 SBE 19pIus V2 CONDUCTIVITY CALIBRATION DATA\n",
      "CALIBRATION DATE: 22—Mar-17 PSS 1978: C(35,15,0) = 4.2914 Siemens/meter\n",
      "COEFFICIENTS:\n",
      "\n",
      "g = —1.0l7709e+000 CPcor = ~9.5700e—008\n",
      "\n",
      "h = 1.328397e—001 CTcor = 3.2500e—006\n",
      "\n",
      "i = —l.413619e—004\n",
      "\n",
      "BATH TEMP BATH SAL BATH COND INSTRUMENT INSTRUMENT RESIDUAL\n",
      "\n",
      "(°C) (PSU) (smn OUTPUT(HU COND(Smw (Shm\n",
      "22.0000 0.0000 0.00000 2769.78 0.0000 0.00000\n",
      "1.0000 34.7872 2.97371 5480.56 2.9737 0.00000\n",
      "4.5000 34.7676 3.28058 5686.63 3.2806 —0.00000\n",
      "15.0000 34.7255 4.26165 6299.67 4.2617 0.00000\n",
      "\n",
      "‘”18.5000‘” -34 7169 M--4 60660- 11.650i 23_w -MWA 6066--- o 06000,-1--.-I-----WMMMH-I ..\n",
      "24.0000 34.7077 5.16425 6814.18 5.1643 -0.00000\n",
      "29.0000 34.7029 5.68583 7094.09 5.6858 —0.00000\n",
      "32.5000 34.7006 6.05809 7287.11 6.0581 0.00000\n",
      "\n",
      "f = Instrument Output (Hz) / 1000.0\n",
      "t = temperature (°C); p = pressure (decibars); 5 = CTcor; e = CPcor;\n",
      "Conductivity(S/m)=(g+h*f2+i*fj+j * I‘)/10(1+5*I+e*p)\n",
      "\n",
      "Residual (Siemens/meter) = instrument conductivity — bath conductivity\n",
      "\n",
      "Date, SIope Correction\n",
      "\n",
      "0.002— ——————— I- ------- I -------.— ------- I---~--—I ——————— I--————--I 8 22-Mar-171.0000000\n",
      "' I I I I I I I\n",
      "”7 | I I I I I I\n",
      "\" I I I I I I 2\n",
      "“ I I I l | I I\n",
      "0001‘ ------- I- ------- I --\"~—-I— ~~~~~~~ I--------I ------- I“--““I\n",
      ".. I I | I I I I\n",
      "A — I I I I I I I\n",
      "E ‘ I I I I I I I\n",
      "g ‘ | I I I I 1 I\n",
      "g 04_ ............ :_, .............. : .......... , .§._.~G._._._._._:__®__5-..:‘_@_W9_._.:®_ - _. .. ....:\n",
      "3 ‘ I I I I I I I\n",
      "g — l I I I I I I\n",
      "I I I I I I I\n",
      "Z i : I 1 I : :\n",
      "0001~ ~~~~~~~ L ——————— '———————i ——————— '—--—~~~i ~~~~~~~ t--~——~J\n",
      "- ‘ I I I | I I I\n",
      "_. I I I I I I\n",
      "I I l | I I\n",
      "_ I I | | I I\n",
      "* I I I I I I I\n",
      "- I I I I I I I\n",
      "l I I I | I I\n",
      "'O-OOZTI'\"I\"I“I*;“I“II‘I‘i‘I‘I‘I'I’I'ITW‘I“E‘ITI‘I‘T‘I‘I“I‘ITI‘I'I'r'i\n",
      "0 1 2 3 4 5 6 7\n",
      "\n",
      "Conductivity (S/m)\n"
     ]
    }
   ],
   "source": [
    "for img in req_image: \n",
    "    txt = tool.image_to_string(\n",
    "        PI.open(io.BytesIO(img)),\n",
    "        lang=lang,\n",
    "        builder=pyocr.builders.TextBuilder()\n",
    "    )\n",
    "    final_text.append(txt)\n",
    "\n",
    "print(final_text[0])"
   ]
  },
  {
   "cell_type": "code",
   "execution_count": null,
   "metadata": {
    "collapsed": true
   },
   "outputs": [],
   "source": []
  },
  {
   "cell_type": "code",
   "execution_count": null,
   "metadata": {
    "collapsed": true
   },
   "outputs": [],
   "source": []
  },
  {
   "cell_type": "code",
   "execution_count": null,
   "metadata": {
    "collapsed": true
   },
   "outputs": [],
   "source": []
  },
  {
   "cell_type": "code",
   "execution_count": null,
   "metadata": {
    "collapsed": true
   },
   "outputs": [],
   "source": []
  },
  {
   "cell_type": "code",
   "execution_count": null,
   "metadata": {
    "collapsed": true
   },
   "outputs": [],
   "source": []
  },
  {
   "cell_type": "code",
   "execution_count": null,
   "metadata": {
    "collapsed": true
   },
   "outputs": [],
   "source": []
  }
 ],
 "metadata": {
  "kernelspec": {
   "display_name": "Python 3",
   "language": "python",
   "name": "python3"
  },
  "language_info": {
   "codemirror_mode": {
    "name": "ipython",
    "version": 3
   },
   "file_extension": ".py",
   "mimetype": "text/x-python",
   "name": "python",
   "nbconvert_exporter": "python",
   "pygments_lexer": "ipython3",
   "version": "3.6.3"
  }
 },
 "nbformat": 4,
 "nbformat_minor": 2
}
