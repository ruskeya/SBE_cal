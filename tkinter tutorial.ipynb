{
 "cells": [
  {
   "cell_type": "code",
   "execution_count": 55,
   "metadata": {},
   "outputs": [
    {
     "ename": "KeyboardInterrupt",
     "evalue": "",
     "output_type": "error",
     "traceback": [
      "\u001b[0;31m---------------------------------------------------------------------------\u001b[0m",
      "\u001b[0;31mKeyboardInterrupt\u001b[0m                         Traceback (most recent call last)",
      "\u001b[0;32m<ipython-input-55-60dfb920d0a7>\u001b[0m in \u001b[0;36m<module>\u001b[0;34m()\u001b[0m\n\u001b[1;32m     50\u001b[0m     \u001b[0;32mreturn\u001b[0m \u001b[0moutput\u001b[0m\u001b[0;34m\u001b[0m\u001b[0m\n\u001b[1;32m     51\u001b[0m \u001b[0;34m\u001b[0m\u001b[0m\n\u001b[0;32m---> 52\u001b[0;31m \u001b[0mdfw\u001b[0m \u001b[0;34m=\u001b[0m \u001b[0mcollect_all_data\u001b[0m\u001b[0;34m(\u001b[0m\u001b[0mdev_id\u001b[0m\u001b[0;34m)\u001b[0m  \u001b[0;31m#call collect_all_data as entry point\u001b[0m\u001b[0;34m\u001b[0m\u001b[0m\n\u001b[0m\u001b[1;32m     53\u001b[0m \u001b[0;31m#df.head()\u001b[0m\u001b[0;34m\u001b[0m\u001b[0;34m\u001b[0m\u001b[0m\n",
      "\u001b[0;32m<ipython-input-55-60dfb920d0a7>\u001b[0m in \u001b[0;36mcollect_all_data\u001b[0;34m(dev_id)\u001b[0m\n\u001b[1;32m     47\u001b[0m     \u001b[0moutput\u001b[0m \u001b[0;34m=\u001b[0m \u001b[0mpd\u001b[0m\u001b[0;34m.\u001b[0m\u001b[0mDataFrame\u001b[0m\u001b[0;34m(\u001b[0m\u001b[0mcolumns\u001b[0m\u001b[0;34m=\u001b[0m\u001b[0;34m[\u001b[0m\u001b[0;34m'Data Type'\u001b[0m\u001b[0;34m,\u001b[0m \u001b[0;34m'Data'\u001b[0m\u001b[0;34m,\u001b[0m \u001b[0;34m'Time'\u001b[0m\u001b[0;34m]\u001b[0m\u001b[0;34m)\u001b[0m\u001b[0;34m\u001b[0m\u001b[0m\n\u001b[1;32m     48\u001b[0m     \u001b[0;32mfor\u001b[0m \u001b[0mx\u001b[0m \u001b[0;32min\u001b[0m \u001b[0;34m[\u001b[0m\u001b[0;34m'temp'\u001b[0m\u001b[0;34m,\u001b[0m \u001b[0;34m'press'\u001b[0m\u001b[0;34m,\u001b[0m \u001b[0;34m'cond'\u001b[0m\u001b[0;34m,\u001b[0m \u001b[0;34m'freq'\u001b[0m\u001b[0;34m,\u001b[0m \u001b[0;34m'T63'\u001b[0m\u001b[0;34m]\u001b[0m\u001b[0;34m:\u001b[0m\u001b[0;34m\u001b[0m\u001b[0m\n\u001b[0;32m---> 49\u001b[0;31m         \u001b[0moutput\u001b[0m \u001b[0;34m=\u001b[0m \u001b[0moutput\u001b[0m\u001b[0;34m.\u001b[0m\u001b[0mappend\u001b[0m\u001b[0;34m(\u001b[0m\u001b[0mget_live\u001b[0m\u001b[0;34m(\u001b[0m\u001b[0mdev_id\u001b[0m\u001b[0;34m,\u001b[0m \u001b[0mx\u001b[0m\u001b[0;34m)\u001b[0m\u001b[0;34m)\u001b[0m\u001b[0;34m\u001b[0m\u001b[0m\n\u001b[0m\u001b[1;32m     50\u001b[0m     \u001b[0;32mreturn\u001b[0m \u001b[0moutput\u001b[0m\u001b[0;34m\u001b[0m\u001b[0m\n\u001b[1;32m     51\u001b[0m \u001b[0;34m\u001b[0m\u001b[0m\n",
      "\u001b[0;32m<ipython-input-55-60dfb920d0a7>\u001b[0m in \u001b[0;36mget_live\u001b[0;34m(dev_id, sample_type)\u001b[0m\n\u001b[1;32m     36\u001b[0m     \u001b[0mnum_samples\u001b[0m \u001b[0;34m=\u001b[0m \u001b[0;36m0\u001b[0m\u001b[0;34m\u001b[0m\u001b[0m\n\u001b[1;32m     37\u001b[0m     \u001b[0;32mwhile\u001b[0m\u001b[0;34m(\u001b[0m\u001b[0mnum_samples\u001b[0m \u001b[0;34m<\u001b[0m \u001b[0;36m99\u001b[0m\u001b[0;34m)\u001b[0m\u001b[0;34m:\u001b[0m\u001b[0;34m\u001b[0m\u001b[0m\n\u001b[0;32m---> 38\u001b[0;31m         \u001b[0mtemptime\u001b[0m\u001b[0;34m.\u001b[0m\u001b[0mappend\u001b[0m\u001b[0;34m(\u001b[0m\u001b[0;34m[\u001b[0m\u001b[0msample_type\u001b[0m\u001b[0;34m,\u001b[0m \u001b[0mstr\u001b[0m\u001b[0;34m(\u001b[0m\u001b[0mser\u001b[0m\u001b[0;34m.\u001b[0m\u001b[0mreadline\u001b[0m\u001b[0;34m(\u001b[0m\u001b[0;34m)\u001b[0m\u001b[0;34m)\u001b[0m\u001b[0;34m[\u001b[0m\u001b[0;36m3\u001b[0m\u001b[0;34m:\u001b[0m\u001b[0;34m-\u001b[0m\u001b[0;36m6\u001b[0m\u001b[0;34m]\u001b[0m\u001b[0;34m,\u001b[0m \u001b[0mdatetime\u001b[0m\u001b[0;34m.\u001b[0m\u001b[0mdatetime\u001b[0m\u001b[0;34m.\u001b[0m\u001b[0mnow\u001b[0m\u001b[0;34m(\u001b[0m\u001b[0;34m)\u001b[0m\u001b[0;34m.\u001b[0m\u001b[0mstrftime\u001b[0m\u001b[0;34m(\u001b[0m\u001b[0;34m'%Y/%m/%d %H:%M:%S:%f'\u001b[0m\u001b[0;34m)\u001b[0m\u001b[0;34m]\u001b[0m\u001b[0;34m)\u001b[0m\u001b[0;34m\u001b[0m\u001b[0m\n\u001b[0m\u001b[1;32m     39\u001b[0m         \u001b[0mnum_samples\u001b[0m \u001b[0;34m+=\u001b[0m \u001b[0;36m1\u001b[0m\u001b[0;34m\u001b[0m\u001b[0m\n\u001b[1;32m     40\u001b[0m     \u001b[0mser\u001b[0m\u001b[0;34m.\u001b[0m\u001b[0mclose\u001b[0m\u001b[0;34m(\u001b[0m\u001b[0;34m)\u001b[0m\u001b[0;34m\u001b[0m\u001b[0m\n",
      "\u001b[0;32m~/anaconda3/lib/python3.6/site-packages/serial/serialposix.py\u001b[0m in \u001b[0;36mread\u001b[0;34m(self, size)\u001b[0m\n\u001b[1;32m    481\u001b[0m         \u001b[0;32mwhile\u001b[0m \u001b[0mlen\u001b[0m\u001b[0;34m(\u001b[0m\u001b[0mread\u001b[0m\u001b[0;34m)\u001b[0m \u001b[0;34m<\u001b[0m \u001b[0msize\u001b[0m\u001b[0;34m:\u001b[0m\u001b[0;34m\u001b[0m\u001b[0m\n\u001b[1;32m    482\u001b[0m             \u001b[0;32mtry\u001b[0m\u001b[0;34m:\u001b[0m\u001b[0;34m\u001b[0m\u001b[0m\n\u001b[0;32m--> 483\u001b[0;31m                 \u001b[0mready\u001b[0m\u001b[0;34m,\u001b[0m \u001b[0m_\u001b[0m\u001b[0;34m,\u001b[0m \u001b[0m_\u001b[0m \u001b[0;34m=\u001b[0m \u001b[0mselect\u001b[0m\u001b[0;34m.\u001b[0m\u001b[0mselect\u001b[0m\u001b[0;34m(\u001b[0m\u001b[0;34m[\u001b[0m\u001b[0mself\u001b[0m\u001b[0;34m.\u001b[0m\u001b[0mfd\u001b[0m\u001b[0;34m,\u001b[0m \u001b[0mself\u001b[0m\u001b[0;34m.\u001b[0m\u001b[0mpipe_abort_read_r\u001b[0m\u001b[0;34m]\u001b[0m\u001b[0;34m,\u001b[0m \u001b[0;34m[\u001b[0m\u001b[0;34m]\u001b[0m\u001b[0;34m,\u001b[0m \u001b[0;34m[\u001b[0m\u001b[0;34m]\u001b[0m\u001b[0;34m,\u001b[0m \u001b[0mtimeout\u001b[0m\u001b[0;34m.\u001b[0m\u001b[0mtime_left\u001b[0m\u001b[0;34m(\u001b[0m\u001b[0;34m)\u001b[0m\u001b[0;34m)\u001b[0m\u001b[0;34m\u001b[0m\u001b[0m\n\u001b[0m\u001b[1;32m    484\u001b[0m                 \u001b[0;32mif\u001b[0m \u001b[0mself\u001b[0m\u001b[0;34m.\u001b[0m\u001b[0mpipe_abort_read_r\u001b[0m \u001b[0;32min\u001b[0m \u001b[0mready\u001b[0m\u001b[0;34m:\u001b[0m\u001b[0;34m\u001b[0m\u001b[0m\n\u001b[1;32m    485\u001b[0m                     \u001b[0mos\u001b[0m\u001b[0;34m.\u001b[0m\u001b[0mread\u001b[0m\u001b[0;34m(\u001b[0m\u001b[0mself\u001b[0m\u001b[0;34m.\u001b[0m\u001b[0mpipe_abort_read_r\u001b[0m\u001b[0;34m,\u001b[0m \u001b[0;36m1000\u001b[0m\u001b[0;34m)\u001b[0m\u001b[0;34m\u001b[0m\u001b[0m\n",
      "\u001b[0;31mKeyboardInterrupt\u001b[0m: "
     ]
    }
   ],
   "source": [
    "####module complete\n",
    "# a call is made to get_live(dev_id, sample_type) and a dataframe is returned with 100 samples for each of the\n",
    "# sample values, temp, press, cond, freq, t63\n",
    "\n",
    "import serial\n",
    "import time\n",
    "\n",
    "dev_id = '/dev/cu.usbserial-FTXQJ5NX'\n",
    "\n",
    "#from datetime import datetime\n",
    "import datetime\n",
    "import pandas as pd\n",
    "\n",
    "###helper functions\n",
    "def wake_up(dev_id):\n",
    "    ser = serial.Serial(dev_id, 9600, timeout=1)\n",
    "    ser.write(b'DCal\\r\\n')\n",
    "    time.sleep(2)\n",
    "    ser.close()\n",
    "    \n",
    "\n",
    "#function to collect samples from instrument \n",
    "def get_live(dev_id, sample_type):\n",
    "    ser = serial.Serial(dev_id, 9600, timeout=1)\n",
    "    sample_command = {'temp': b'TT\\r\\n',\n",
    "                      'press': b'TP\\r\\n',\n",
    "                      'cond': b'TC\\r\\n',\n",
    "                      'freq': b'TF\\r\\n',\n",
    "                      'T63': b'T63\\r\\n'\n",
    "                     }\n",
    "    ser.reset_output_buffer()\n",
    "    time.sleep(2)\n",
    "    ser.write(sample_command[sample_type])\n",
    "    temptime = []\n",
    "    #time.sleep(1)\n",
    "    num_samples = 0\n",
    "    while(num_samples < 99):\n",
    "        temptime.append([sample_type, str(ser.readline())[3:-6], datetime.datetime.now().strftime('%Y/%m/%d %H:%M:%S:%f')])\n",
    "        num_samples += 1\n",
    "    ser.close()\n",
    "    live = pd.DataFrame(temptime, columns=['Data Type', 'Data', 'Time'])\n",
    "    return live\n",
    "\n",
    "#function to call get_live with each type, runs through all sample types and generates dataframe output\n",
    "def collect_all_data(dev_id):\n",
    "    wake_up(dev_id)\n",
    "    output = pd.DataFrame(columns=['Data Type', 'Data', 'Time'])\n",
    "    for x in ['temp', 'press', 'cond', 'freq', 'T63']:\n",
    "        output = output.append(get_live(dev_id, x))\n",
    "    return output\n",
    "\n",
    "dfw = collect_all_data(dev_id)  #call collect_all_data as entry point\n",
    "#df.head()"
   ]
  },
  {
   "cell_type": "code",
   "execution_count": null,
   "metadata": {
    "collapsed": true
   },
   "outputs": [],
   "source": [
    "###module to compare RMA and REF instrument values\n",
    "df = df.drop(0)\n",
    "df['Data'] = pd.to_numeric(df.Data, errors='coerce')\n",
    "mean = df[df['Data Type'] == 'temp']['Data'].mean() #mean value of data column\n",
    "outliers = df[df['Data']]"
   ]
  },
  {
   "cell_type": "code",
   "execution_count": 49,
   "metadata": {},
   "outputs": [
    {
     "name": "stdout",
     "output_type": "stream",
     "text": [
      "22.56366326530614\n"
     ]
    }
   ],
   "source": [
    "df[df['Data'] == '']"
   ]
  },
  {
   "cell_type": "code",
   "execution_count": 54,
   "metadata": {},
   "outputs": [
    {
     "data": {
      "text/html": [
       "<div>\n",
       "<style>\n",
       "    .dataframe thead tr:only-child th {\n",
       "        text-align: right;\n",
       "    }\n",
       "\n",
       "    .dataframe thead th {\n",
       "        text-align: left;\n",
       "    }\n",
       "\n",
       "    .dataframe tbody tr th {\n",
       "        vertical-align: top;\n",
       "    }\n",
       "</style>\n",
       "<table border=\"1\" class=\"dataframe\">\n",
       "  <thead>\n",
       "    <tr style=\"text-align: right;\">\n",
       "      <th></th>\n",
       "      <th>Data Type</th>\n",
       "      <th>Data</th>\n",
       "      <th>Time</th>\n",
       "    </tr>\n",
       "  </thead>\n",
       "  <tbody>\n",
       "    <tr>\n",
       "      <th>0</th>\n",
       "      <td>temp</td>\n",
       "      <td></td>\n",
       "      <td>2018/03/01 10:37:54:520763</td>\n",
       "    </tr>\n",
       "    <tr>\n",
       "      <th>1</th>\n",
       "      <td>temp</td>\n",
       "      <td>22.305</td>\n",
       "      <td>2018/03/01 10:37:55:334262</td>\n",
       "    </tr>\n",
       "    <tr>\n",
       "      <th>2</th>\n",
       "      <td>temp</td>\n",
       "      <td>22.305</td>\n",
       "      <td>2018/03/01 10:37:55:590031</td>\n",
       "    </tr>\n",
       "    <tr>\n",
       "      <th>3</th>\n",
       "      <td>temp</td>\n",
       "      <td>22.305</td>\n",
       "      <td>2018/03/01 10:37:55:830114</td>\n",
       "    </tr>\n",
       "    <tr>\n",
       "      <th>4</th>\n",
       "      <td>temp</td>\n",
       "      <td>22.305</td>\n",
       "      <td>2018/03/01 10:37:56:085965</td>\n",
       "    </tr>\n",
       "  </tbody>\n",
       "</table>\n",
       "</div>"
      ],
      "text/plain": [
       "  Data Type    Data                        Time\n",
       "0      temp          2018/03/01 10:37:54:520763\n",
       "1      temp  22.305  2018/03/01 10:37:55:334262\n",
       "2      temp  22.305  2018/03/01 10:37:55:590031\n",
       "3      temp  22.305  2018/03/01 10:37:55:830114\n",
       "4      temp  22.305  2018/03/01 10:37:56:085965"
      ]
     },
     "execution_count": 54,
     "metadata": {},
     "output_type": "execute_result"
    }
   ],
   "source": [
    "dfw.head()"
   ]
  },
  {
   "cell_type": "code",
   "execution_count": 51,
   "metadata": {},
   "outputs": [
    {
     "name": "stdout",
     "output_type": "stream",
     "text": [
      "None\n"
     ]
    },
    {
     "ename": "KeyboardInterrupt",
     "evalue": "",
     "output_type": "error",
     "traceback": [
      "\u001b[0;31m---------------------------------------------------------------------------\u001b[0m",
      "\u001b[0;31mKeyboardInterrupt\u001b[0m                         Traceback (most recent call last)",
      "\u001b[0;32m<ipython-input-51-e8bd976b96f5>\u001b[0m in \u001b[0;36m<module>\u001b[0;34m()\u001b[0m\n\u001b[1;32m     50\u001b[0m \u001b[0mstatus\u001b[0m\u001b[0;34m.\u001b[0m\u001b[0mpack\u001b[0m\u001b[0;34m(\u001b[0m\u001b[0;34m)\u001b[0m\u001b[0;34m\u001b[0m\u001b[0m\n\u001b[1;32m     51\u001b[0m \u001b[0;34m\u001b[0m\u001b[0m\n\u001b[0;32m---> 52\u001b[0;31m \u001b[0mroot\u001b[0m\u001b[0;34m.\u001b[0m\u001b[0mmainloop\u001b[0m\u001b[0;34m(\u001b[0m\u001b[0;34m)\u001b[0m\u001b[0;34m\u001b[0m\u001b[0m\n\u001b[0m",
      "\u001b[0;32m~/anaconda3/lib/python3.6/tkinter/__init__.py\u001b[0m in \u001b[0;36mmainloop\u001b[0;34m(self, n)\u001b[0m\n\u001b[1;32m   1275\u001b[0m     \u001b[0;32mdef\u001b[0m \u001b[0mmainloop\u001b[0m\u001b[0;34m(\u001b[0m\u001b[0mself\u001b[0m\u001b[0;34m,\u001b[0m \u001b[0mn\u001b[0m\u001b[0;34m=\u001b[0m\u001b[0;36m0\u001b[0m\u001b[0;34m)\u001b[0m\u001b[0;34m:\u001b[0m\u001b[0;34m\u001b[0m\u001b[0m\n\u001b[1;32m   1276\u001b[0m         \u001b[0;34m\"\"\"Call the mainloop of Tk.\"\"\"\u001b[0m\u001b[0;34m\u001b[0m\u001b[0m\n\u001b[0;32m-> 1277\u001b[0;31m         \u001b[0mself\u001b[0m\u001b[0;34m.\u001b[0m\u001b[0mtk\u001b[0m\u001b[0;34m.\u001b[0m\u001b[0mmainloop\u001b[0m\u001b[0;34m(\u001b[0m\u001b[0mn\u001b[0m\u001b[0;34m)\u001b[0m\u001b[0;34m\u001b[0m\u001b[0m\n\u001b[0m\u001b[1;32m   1278\u001b[0m     \u001b[0;32mdef\u001b[0m \u001b[0mquit\u001b[0m\u001b[0;34m(\u001b[0m\u001b[0mself\u001b[0m\u001b[0;34m)\u001b[0m\u001b[0;34m:\u001b[0m\u001b[0;34m\u001b[0m\u001b[0m\n\u001b[1;32m   1279\u001b[0m         \u001b[0;34m\"\"\"Quit the Tcl interpreter. All widgets will be destroyed.\"\"\"\u001b[0m\u001b[0;34m\u001b[0m\u001b[0m\n",
      "\u001b[0;31mKeyboardInterrupt\u001b[0m: "
     ]
    }
   ],
   "source": [
    "from tkinter import *\n",
    "import os\n",
    "import re\n",
    "import time\n",
    "\n",
    "def get_usb(prev_usb=\"none\"):\n",
    "    devices = os.listdir('/dev/') \n",
    "    usb = \"No Devices\"\n",
    "    for dev in devices:\n",
    "        if re.search(\"(cu.usb).*\", dev):\n",
    "                if prev_usb != dev:\n",
    "                    usb = dev\n",
    "    return usb    \n",
    "    \n",
    "def autoupdate(root, dev_status):\n",
    "    def get_ref_device():\n",
    "        dev = get_usb()\n",
    "        devices = []\n",
    "        if(dev == \"No Devices\"):\n",
    "            ref = \"\"\n",
    "            dev_status.config(text=dev)\n",
    "            dev_status.after(1000, get_ref_device)\n",
    "        else:    \n",
    "            dev_status.config(text=dev + \"\\nReference Device Found\\nPlease Connect RMA Instrument\\nNo Device\")\n",
    "            devices.append(dev)\n",
    "            return devices\n",
    "            dev_status.after(1000, get_rma_device(dev))\n",
    "    def get_rma_device(dev):\n",
    "        rma = get_usb(dev) \n",
    "        if(rma == \"No Devices\"):\n",
    "            ref = \"\"\n",
    "            #dev_status.config(text=rma)\n",
    "            dev_status.after(1000, get_rma_device)\n",
    "        else:    \n",
    "            dev_status.config(text=dev + \"\\nReference Device Found\\nPlease Connect RMA Instrument\\n\"+rma)\n",
    "            #devices.append(dev)\n",
    "    \n",
    "    return get_ref_device()\n",
    "    \n",
    "root = Tk()\n",
    "\n",
    "w = Label(root, text=\"Connect Reference Device\")\n",
    "status = Label(root, fg=\"green\")\n",
    "devices = autoupdate(root, status)\n",
    "\n",
    "print(devices)\n",
    "\n",
    "root.title(\"test\")\n",
    "w.pack()\n",
    "status.pack()\n",
    "\n",
    "root.mainloop()\n"
   ]
  },
  {
   "cell_type": "code",
   "execution_count": null,
   "metadata": {
    "collapsed": true
   },
   "outputs": [],
   "source": []
  },
  {
   "cell_type": "code",
   "execution_count": null,
   "metadata": {
    "collapsed": true
   },
   "outputs": [],
   "source": []
  },
  {
   "cell_type": "code",
   "execution_count": null,
   "metadata": {
    "collapsed": true
   },
   "outputs": [],
   "source": []
  },
  {
   "cell_type": "code",
   "execution_count": null,
   "metadata": {
    "collapsed": true
   },
   "outputs": [],
   "source": []
  },
  {
   "cell_type": "code",
   "execution_count": null,
   "metadata": {
    "collapsed": true
   },
   "outputs": [],
   "source": []
  },
  {
   "cell_type": "code",
   "execution_count": 6,
   "metadata": {
    "collapsed": true
   },
   "outputs": [],
   "source": [
    "from tkinter import *\n",
    "\n",
    "def blow_up(frame):\n",
    "    frame.destroy()\n",
    "\n",
    "root =  Tk()\n",
    "root.geometry(\"800x600\")\n",
    "\n",
    "sub_win = Frame(master=root)\n",
    "sub_frame = Frame(sub_win)\n",
    "\n",
    "clearbutt = Button(master=sub_win, text=\"clear screen\", command=lambda: blow_up(sub_frame))\n",
    "clearbutt.pack()\n",
    "\n",
    "texty = Text(master=sub_frame)\n",
    "texty.insert(INSERT, \"blabbababa\")\n",
    "texty.pack()\n",
    "\n",
    "mainloop()"
   ]
  },
  {
   "cell_type": "code",
   "execution_count": 13,
   "metadata": {
    "collapsed": true
   },
   "outputs": [],
   "source": [
    "from tkinter import *\n",
    "\n",
    "def ontclick():\n",
    "    lbl.config(text=\"New\")\n",
    "\n",
    "root= Tk()\n",
    "root.geometry(\"800x600\")\n",
    "\n",
    "btn = Button(root, text=\"OK\", command=ontclick)\n",
    "lbl = Label(root, text=\"old\")\n",
    "\n",
    "btn.pack()\n",
    "lbl.pack()\n",
    "\n",
    "mainloop()"
   ]
  },
  {
   "cell_type": "code",
   "execution_count": null,
   "metadata": {
    "collapsed": true
   },
   "outputs": [],
   "source": []
  },
  {
   "cell_type": "code",
   "execution_count": null,
   "metadata": {
    "collapsed": true
   },
   "outputs": [],
   "source": []
  },
  {
   "cell_type": "code",
   "execution_count": null,
   "metadata": {
    "collapsed": true
   },
   "outputs": [],
   "source": [
    "###outdated, moved to bottom\n",
    "from tkinter import *\n",
    "\n",
    "class Window(Frame):\n",
    "    def __init__(self, master=None):\n",
    "        Frame.__init__(self, master)\n",
    "        self.master = master\n",
    "        self.init_window()\n",
    "        \n",
    "    def init_window(self):\n",
    "        self.master.title(\"GUI\")\n",
    "        self.pack(fill=BOTH, expand=1)\n",
    "        \n",
    "        menu = Menu(self.master)\n",
    "        self.master.config(menu=menu)\n",
    "        file=Menu(menu)\n",
    "        file.add_command(label=\"Exit\", command=self.client_exit)\n",
    "        menu.add_cascade(label=\"File\", menu=file)\n",
    "        edit = Menu(menu)\n",
    "        edit.add_command(label=\"Undo\")\n",
    "        menu.add_cascade(label=\"Edit\", menu=edit)\n",
    "        \n",
    "        quitButton = Button(self, text=\"Quit\", command=self.client_exit)\n",
    "        quitButton.place(x=0, y=0)\n",
    "    \n",
    "    def client_exit(self):\n",
    "        exit()\n",
    "    \n",
    "root = Tk()\n",
    "root.geometry(\"400x300\")\n",
    "\n",
    "app = Window(root)\n",
    "root.update()\n",
    "root.mainloop()"
   ]
  },
  {
   "cell_type": "code",
   "execution_count": 2,
   "metadata": {},
   "outputs": [
    {
     "ename": "NameError",
     "evalue": "name 'b' is not defined",
     "output_type": "error",
     "traceback": [
      "\u001b[0;31m---------------------------------------------------------------------------\u001b[0m",
      "\u001b[0;31mNameError\u001b[0m                                 Traceback (most recent call last)",
      "\u001b[0;32m<ipython-input-2-9f6549dcc578>\u001b[0m in \u001b[0;36m<module>\u001b[0;34m()\u001b[0m\n\u001b[1;32m      2\u001b[0m     \u001b[0mprint\u001b[0m\u001b[0;34m(\u001b[0m\u001b[0ma\u001b[0m \u001b[0;34m+\u001b[0m \u001b[0mb\u001b[0m\u001b[0;34m)\u001b[0m\u001b[0;34m\u001b[0m\u001b[0m\n\u001b[1;32m      3\u001b[0m \u001b[0;34m\u001b[0m\u001b[0m\n\u001b[0;32m----> 4\u001b[0;31m \u001b[0mop2\u001b[0m\u001b[0;34m(\u001b[0m\u001b[0;36m2\u001b[0m\u001b[0;34m,\u001b[0m \u001b[0mb\u001b[0m\u001b[0;34m)\u001b[0m\u001b[0;34m\u001b[0m\u001b[0m\n\u001b[0m",
      "\u001b[0;31mNameError\u001b[0m: name 'b' is not defined"
     ]
    }
   ],
   "source": [
    "def op2(a, b=3):\n",
    "    print(a + b)\n",
    "    \n",
    "op2(2, b)"
   ]
  },
  {
   "cell_type": "code",
   "execution_count": 11,
   "metadata": {
    "collapsed": true
   },
   "outputs": [],
   "source": [
    "from tkinter import *\n",
    "import pandas as pd\n",
    "import tktable\n",
    "import numpy as np\n",
    "\n",
    "samples = pd.DataFrame(data = [[1,2,3], [3,4,5]])\n",
    "cals = pd.DataFrame(data = np.random.randn(10,4), columns=list('ABCD'))\n",
    "\n",
    "def gen_report():\n",
    "    report=Tk()\n",
    "    report.geometry(\"1000x500\")\n",
    "    report.title(\"Report\")\n",
    "    \n",
    "    #title for cal data\n",
    "    cal_label = Label(report, text=\"Calibration Comparison\", height=1, width=50)\n",
    "    cal_label.grid()\n",
    "    #title for sample data\n",
    "    sample_label = Label(report, text=\"Sample Comparison\", height=1)\n",
    "    sample_label.grid(row=0, column=1)\n",
    "    \n",
    "    #samples data\n",
    "    sample_comparison = Text(report, bg='blue', height=5)\n",
    "    sample_comparison.grid(row=1, column=1, sticky='NW')\n",
    "    sample_comparison.insert(INSERT, samples)\n",
    "    \n",
    "    #summary of results(written)\n",
    "    text_summary = Text(report)\n",
    "    text_summary.grid(row=2, column=1, sticky = 'NW')\n",
    "    text_summary.insert(INSERT, \"PASS OR FAILLLLLLLLLLLLLLLLLLLLLLLLLLLLLLLLLLLLLLL\")\n",
    "\n",
    "    #calibration data\n",
    "    data = Text(report, bg='red', height=9)\n",
    "    data.grid(row=1, column=0, rowspan=2, sticky='NW')\n",
    "    data.insert(INSERT, cals)\n",
    "    \n",
    "root = Tk()\n",
    "root.geometry(\"1000x500\")\n",
    "root.title(\"Root\")\n",
    "\n",
    "report_button = Button(root, text=\"GENERATE IT\", command=gen_report)\n",
    "\n",
    "report_button.pack()\n",
    "\n",
    "mainloop()"
   ]
  },
  {
   "cell_type": "code",
   "execution_count": 35,
   "metadata": {
    "collapsed": true
   },
   "outputs": [],
   "source": [
    "x=\"abcd\"\n",
    "x.replace('a', 'n').replace('b', 'n')\n",
    "\n",
    "def tryconvert(x):\n",
    "    try:\n",
    "        x.replace('r', 'b')\n",
    "        return x\n",
    "    except:\n",
    "        return x"
   ]
  },
  {
   "cell_type": "code",
   "execution_count": 45,
   "metadata": {},
   "outputs": [
    {
     "data": {
      "text/html": [
       "<div>\n",
       "<style>\n",
       "    .dataframe thead tr:only-child th {\n",
       "        text-align: right;\n",
       "    }\n",
       "\n",
       "    .dataframe thead th {\n",
       "        text-align: left;\n",
       "    }\n",
       "\n",
       "    .dataframe tbody tr th {\n",
       "        vertical-align: top;\n",
       "    }\n",
       "</style>\n",
       "<table border=\"1\" class=\"dataframe\">\n",
       "  <thead>\n",
       "    <tr style=\"text-align: right;\">\n",
       "      <th></th>\n",
       "      <th>0</th>\n",
       "      <th>1</th>\n",
       "      <th>2</th>\n",
       "    </tr>\n",
       "  </thead>\n",
       "  <tbody>\n",
       "    <tr>\n",
       "      <th>0</th>\n",
       "      <td>1</td>\n",
       "      <td>b</td>\n",
       "      <td>r</td>\n",
       "    </tr>\n",
       "    <tr>\n",
       "      <th>1</th>\n",
       "      <td>b</td>\n",
       "      <td>1</td>\n",
       "      <td>r</td>\n",
       "    </tr>\n",
       "  </tbody>\n",
       "</table>\n",
       "</div>"
      ],
      "text/plain": [
       "   0  1  2\n",
       "0  1  b  r\n",
       "1  b  1  r"
      ]
     },
     "execution_count": 45,
     "metadata": {},
     "output_type": "execute_result"
    }
   ],
   "source": [
    "def tryconvert(x):\n",
    "    try:\n",
    "        return x.replace('r', 'b')\n",
    "    except:\n",
    "        return x\n",
    "\n",
    "import pandas as pd\n",
    "samples = pd.DataFrame(data = [['1.32424e-003','b','r'], ['r',1,'r']])\n",
    "#samples['moar'] = samples[0] * samples[1]\n",
    "samples[0] = samples[0].apply(lambda x: tryconvert(x))\n",
    "                                          \n",
    "samples.head()\n"
   ]
  },
  {
   "cell_type": "code",
   "execution_count": 1,
   "metadata": {},
   "outputs": [
    {
     "name": "stdout",
     "output_type": "stream",
     "text": [
      " ewr\n",
      "sdf ewr\n"
     ]
    }
   ],
   "source": [
    "from tkinter import *\n",
    "import pandas as pd\n",
    "import tktable\n",
    "import numpy as np\n",
    "\n",
    "def change_val():\n",
    "    data = update_val.get()\n",
    "    data2 = update_val2.get()\n",
    "    print(data, data2)\n",
    "    #result.set(update_val.get())\n",
    "    #update_val.delete(0, END)\n",
    "    #update_val.insert(0, new)\n",
    "    \n",
    "root = Tk()\n",
    "root.geometry(\"1000x500\")\n",
    "root.title(\"Root\")\n",
    "data = \"blorp\"\n",
    "\n",
    "update_val = StringVar()\n",
    "update_val2 = StringVar()\n",
    "result = StringVar()\n",
    "result.set(\"Init Val\")\n",
    "\n",
    "items = [None]*5\n",
    "item1 = Text(root)\n",
    "item2 = Label(root,  text = \"init val\",textvariable = result)\n",
    "mentry = Entry(root, textvariable = update_val)\n",
    "mbutt = Button(root, text=\"Update\", command = change_val)\n",
    "\n",
    "\n",
    "item3 = Label(root,  text = \"init val\",textvariable = result)\n",
    "mentry2 = Entry(root, textvariable = update_val2)\n",
    "mbutt2 = Button(root, text=\"Update\", command = change_val)\n",
    "\n",
    "\n",
    "\n",
    "item1.insert(INSERT, \"Banana\")\n",
    "item1.grid(column=0, row=0, sticky='NW')\n",
    "\n",
    "item2.grid(column=1, row=0, sticky='NW')\n",
    "mentry.grid(column=2, row = 0, sticky='NW')\n",
    "mbutt.grid(column=3, row = 0, sticky='NW')\n",
    "\n",
    "item3.grid(column=1, row=1, sticky='NW')\n",
    "mentry2.grid(column=2, row = 1, sticky='NW')\n",
    "mbutt2.grid(column=3, row = 1, sticky='NW')\n",
    "\n",
    "mainloop()"
   ]
  },
  {
   "cell_type": "code",
   "execution_count": null,
   "metadata": {
    "collapsed": true
   },
   "outputs": [],
   "source": []
  },
  {
   "cell_type": "code",
   "execution_count": null,
   "metadata": {
    "collapsed": true
   },
   "outputs": [],
   "source": []
  },
  {
   "cell_type": "code",
   "execution_count": null,
   "metadata": {
    "collapsed": true
   },
   "outputs": [],
   "source": []
  }
 ],
 "metadata": {
  "kernelspec": {
   "display_name": "Python 3",
   "language": "python",
   "name": "python3"
  },
  "language_info": {
   "codemirror_mode": {
    "name": "ipython",
    "version": 3
   },
   "file_extension": ".py",
   "mimetype": "text/x-python",
   "name": "python",
   "nbconvert_exporter": "python",
   "pygments_lexer": "ipython3",
   "version": "3.6.3"
  }
 },
 "nbformat": 4,
 "nbformat_minor": 2
}
