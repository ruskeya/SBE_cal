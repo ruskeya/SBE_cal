{
 "cells": [
  {
   "cell_type": "code",
   "execution_count": null,
   "metadata": {
    "collapsed": true
   },
   "outputs": [],
   "source": [
    "#script to collect data from calibration sheet and instrument and compare for instrument qualification"
   ]
  },
  {
   "cell_type": "code",
   "execution_count": 39,
   "metadata": {
    "collapsed": true
   },
   "outputs": [],
   "source": [
    "#imports\n",
    "from pdfrw import PdfReader\n",
    "import numpy as np\n",
    "import pandas as pd\n",
    "import matplotlib.pyplot as plt\n",
    "import serial\n",
    "import time\n",
    "import PyPDF2\n",
    "#from datetime import datetime\n",
    "import datetime\n",
    "from tkinter.filedialog import askopenfilename\n",
    "from tkinter import *\n",
    "import re\n",
    "\n",
    "import os\n",
    "os.environ.setdefault('MAGICK_HOME', '/usr/local/Cellar/imagemagick@6/6.9.9-34/')\n",
    "from wand.image import Image\n",
    "from PIL import Image as PI\n",
    "import pyocr\n",
    "import pyocr.builders\n",
    "import io"
   ]
  },
  {
   "cell_type": "code",
   "execution_count": 112,
   "metadata": {
    "collapsed": true
   },
   "outputs": [],
   "source": [
    "#load the cal information from instrument and return as string\n",
    "def get_instrument_cal(usbpath):\n",
    "#ser = serial.Serial('/dev/cu.usbserial-FTXQJ5NX', 9600, timeout=1)\n",
    "    ser = serial.Serial(usbpath, 9600, timeout=1)\n",
    "    ser.reset_output_buffer()\n",
    "    ser.write(b'DCal\\r\\n')\n",
    "    time.sleep(10)\n",
    "    ser.write(b'DCal\\r\\n')\n",
    "    time.sleep(1)\n",
    "    s = ser.read(10000)\n",
    "    ser.close()\n",
    "    return str(s)\n"
   ]
  },
  {
   "cell_type": "code",
   "execution_count": 22,
   "metadata": {
    "collapsed": true
   },
   "outputs": [],
   "source": [
    "#prompt user for filepath to cal sheet \n",
    "def request_filepath():\n",
    "    root = Tk()\n",
    "    root.withdraw()\n",
    "    filename=askopenfilename()\n",
    "    root.update()\n",
    "    root.destroy()\n",
    "    return filename\n"
   ]
  },
  {
   "cell_type": "code",
   "execution_count": 170,
   "metadata": {},
   "outputs": [],
   "source": [
    "#read PDFFile\n",
    "#def read_file(filepath):\n",
    "#    pdfFileObj = open(filepath, 'rb')\n",
    "#    pdfReader = PyPDF2.PdfFileReader(pdfFileObj)\n",
    "#    pageObj = pdfReader.getPage(0)\n",
    "#    ret = pageObj.extractText()\n",
    "#    return str(ret)\n",
    "\n",
    "#read PDYFile via OCR\n",
    "#credit to https://pythontips.com/2016/02/25/ocr-on-pdf-files-using-python/\n",
    "def read_file(filepath):\n",
    "    tool = pyocr.get_available_tools()[0]\n",
    "    lang = tool.get_available_languages()[0]\n",
    "    req_image = []\n",
    "    final_text = []\n",
    "    image_pdf = Image(filename=filepath, resolution=800)\n",
    "    image_jpeg = image_pdf.convert('jpeg')\n",
    "    for img in image_jpeg.sequence:\n",
    "        img_page = Image(image=img)\n",
    "        req_image.append(img_page.make_blob('jpeg'))\n",
    "    for img in req_image: \n",
    "        txt = tool.image_to_string(\n",
    "            PI.open(io.BytesIO(img)),\n",
    "            lang=lang,\n",
    "            builder=pyocr.builders.TextBuilder()\n",
    "        )\n",
    "        final_text.append(txt)\n",
    "    merge_text = ''.join(final_text)\n",
    "    return merge_text"
   ]
  },
  {
   "cell_type": "code",
   "execution_count": 171,
   "metadata": {},
   "outputs": [],
   "source": [
    "#compare cal file and instruments\n",
    "\n",
    "#pass strings for cal sheet and instrument cals and it will compare all values and generate a comparison report\n",
    "def compare_cals(instr, sheet):\n",
    "    i_s = instr\n",
    "    s_s = sheet\n",
    "    temp_tags = [r\"(?<![pP])([aA]0 = )[^\\\\\\n]*\", r\"(?<![pP])([aA]1 = )[^\\\\\\n]*\", r\"(?<![pP])([aA]2 = )[^\\\\\\n]*\", r\"(?<![pP])([aA]3 = )[^\\\\\\n]*\"]#\"([aA]1 = )[^\\\\\\]*\", \"([aA]2 = )[^\\\\\\]*\", \"([aA]3 = )[^\\\\\\]*\"]\n",
    "    press_tags = [r\"(?i)(pa0)[^\\\\\\s]*\"]\n",
    "    cond_tags = [r\"(?i)(g = )[^\\\\\\s]*\", r\"(?i)(h = )[^\\\\\\s]*\", r\"(?i)(i = )[^\\\\\\s]*\", r\"(?i)(j = )[^\\\\\\s]*\", r\"(?i)(CPcor = )[^\\\\\\s]*\", r\"(?i)(CTcor = )[^\\\\\\s]*\"]\n",
    "    comparison_array = []\n",
    "    for tag in temp_tags:\n",
    "        instr_press = find_value(tag, i_s)\n",
    "        cal_press = find_value(tag, s_s)\n",
    "        comparison_array.append((instr_press, cal_press))\n",
    "    for tag in cond_tags:\n",
    "        instr_press = find_value(tag, i_s)\n",
    "        cal_press = find_value(tag, s_s)\n",
    "        comparison_array.append((instr_press, cal_press))\n",
    "    #for tag in press_tags:\n",
    "     #   instr_press = find_value(tag, i_s)\n",
    "      #  cal_press = find_value(tag, s_s)\n",
    "       # comparison_array.append((instr_press, cal_press))    \n",
    "    return comparison_array\n",
    "    \n",
    "def find_value(tag, input_file):\n",
    "    m = re.search(tag, input_file)\n",
    "    if m:\n",
    "        return m.group(0)\n",
    "    else:\n",
    "        return \"Not Found\"\n",
    "\n",
    "instr = get_instrument_cal('/dev/cu.usbserial-FTXQJ5NX')\n",
    "sheet = read_file(request_filepath())\n",
    "#print(instr + sheet)\n",
    "df = pd.DataFrame(data = compare_cals(instr, sheet), columns=['Instrument', 'Sheet'])"
   ]
  },
  {
   "cell_type": "code",
   "execution_count": 169,
   "metadata": {},
   "outputs": [
    {
     "data": {
      "text/html": [
       "<div>\n",
       "<style>\n",
       "    .dataframe thead tr:only-child th {\n",
       "        text-align: right;\n",
       "    }\n",
       "\n",
       "    .dataframe thead th {\n",
       "        text-align: left;\n",
       "    }\n",
       "\n",
       "    .dataframe tbody tr th {\n",
       "        vertical-align: top;\n",
       "    }\n",
       "</style>\n",
       "<table border=\"1\" class=\"dataframe\">\n",
       "  <thead>\n",
       "    <tr style=\"text-align: right;\">\n",
       "      <th></th>\n",
       "      <th>Instrument</th>\n",
       "      <th>Sheet</th>\n",
       "    </tr>\n",
       "  </thead>\n",
       "  <tbody>\n",
       "    <tr>\n",
       "      <th>0</th>\n",
       "      <td>A0 = 1.212524e-03</td>\n",
       "      <td>a0 = 1.2125246—003</td>\n",
       "    </tr>\n",
       "    <tr>\n",
       "      <th>1</th>\n",
       "      <td>A1 = 2.785129e-04</td>\n",
       "      <td>a1 = 2.7851298-004</td>\n",
       "    </tr>\n",
       "    <tr>\n",
       "      <th>2</th>\n",
       "      <td>A2 = -8.176058e-07</td>\n",
       "      <td>a2 = —8.176058€—007</td>\n",
       "    </tr>\n",
       "    <tr>\n",
       "      <th>3</th>\n",
       "      <td>A3 = 1.688228e-07</td>\n",
       "      <td>a3 = 1.6882288—007</td>\n",
       "    </tr>\n",
       "    <tr>\n",
       "      <th>4</th>\n",
       "      <td>G = -1.017709e+00</td>\n",
       "      <td>Not Found</td>\n",
       "    </tr>\n",
       "    <tr>\n",
       "      <th>5</th>\n",
       "      <td>H = 1.328397e-01</td>\n",
       "      <td>Not Found</td>\n",
       "    </tr>\n",
       "    <tr>\n",
       "      <th>6</th>\n",
       "      <td>I = -1.413619e-04</td>\n",
       "      <td>Not Found</td>\n",
       "    </tr>\n",
       "    <tr>\n",
       "      <th>7</th>\n",
       "      <td>J = 2.733806e-05</td>\n",
       "      <td>Not Found</td>\n",
       "    </tr>\n",
       "    <tr>\n",
       "      <th>8</th>\n",
       "      <td>CPCOR = -9.570000e-08</td>\n",
       "      <td>Not Found</td>\n",
       "    </tr>\n",
       "    <tr>\n",
       "      <th>9</th>\n",
       "      <td>CTCOR = 3.250000e-06</td>\n",
       "      <td>Not Found</td>\n",
       "    </tr>\n",
       "  </tbody>\n",
       "</table>\n",
       "</div>"
      ],
      "text/plain": [
       "              Instrument                Sheet\n",
       "0      A0 = 1.212524e-03   a0 = 1.2125246—003\n",
       "1      A1 = 2.785129e-04   a1 = 2.7851298-004\n",
       "2     A2 = -8.176058e-07  a2 = —8.176058€—007\n",
       "3      A3 = 1.688228e-07   a3 = 1.6882288—007\n",
       "4      G = -1.017709e+00            Not Found\n",
       "5       H = 1.328397e-01            Not Found\n",
       "6      I = -1.413619e-04            Not Found\n",
       "7       J = 2.733806e-05            Not Found\n",
       "8  CPCOR = -9.570000e-08            Not Found\n",
       "9   CTCOR = 3.250000e-06            Not Found"
      ]
     },
     "execution_count": 169,
     "metadata": {},
     "output_type": "execute_result"
    }
   ],
   "source": [
    "df.head(10)"
   ]
  },
  {
   "cell_type": "code",
   "execution_count": null,
   "metadata": {
    "collapsed": true
   },
   "outputs": [],
   "source": []
  },
  {
   "cell_type": "code",
   "execution_count": null,
   "metadata": {
    "collapsed": true
   },
   "outputs": [],
   "source": []
  },
  {
   "cell_type": "code",
   "execution_count": 147,
   "metadata": {},
   "outputs": [
    {
     "name": "stdout",
     "output_type": "stream",
     "text": [
      "b'\\x00SBE 19plus\\r\\nS>DCal\\r\\nSBE 19plus V 3.1.8  SERIAL NO. 7792    13 Feb 2018 19:37:00\\r\\ntemperature:  22-Mar-17\\r\\n    TA0 = 1.212524e-03\\r\\n    TA1 = 2.785129e-04\\r\\n    TA2 = -8.176058e-07\\r\\n    TA3 = 1.688228e-07\\r\\n    TOFFSET = 0.000000e+00\\r\\nconductivity:  22-Mar-17\\r\\n    G = -1.017709e+00\\r\\n    H = 1.328397e-01\\r\\n    I = -1.413619e-04\\r\\n    J = 2.733806e-05\\r\\n    CPCOR = -9.570000e-08\\r\\n    CTCOR = 3.250000e-06\\r\\n    CSLOPE = 1.000000e+00\\r\\npressure S/N = 10595352, range = 508 psia:  20-Mar-17\\r\\n    PA0 = 3.113398e-01\\r\\n    PA1 = 1.538578e-03\\r\\n    PA2 = 6.921156e-12\\r\\n    PTCA0 = 5.240590e+05\\r\\n    PTCA1 = 1.093591e+01\\r\\n    PTCA2 = -6.848369e-02\\r\\n    PTCB0 = 2.514300e+01\\r\\n    PTCB1 = 0.000000e+00\\r\\n    PTCB2 = 0.000000e+00\\r\\n    PTEMPA0 = -6.932351e+01\\r\\n    PTEMPA1 = 5.009211e+01\\r\\n    PTEMPA2 = -2.541175e-01\\r\\n    POFFSET = 0.000000e+00\\r\\nvolt 0: offset = -4.810700e-02, slope = 1.248992e+00\\r\\nvolt 1: offset = -4.858300e-02, slope = 1.250071e+00\\r\\nvolt 2: offset = -4.781400e-02, slope = 1.248561e+00\\r\\nvolt 3: offset = -4.992600e-02, slope = 1.248567e+00\\r\\nvolt 4: offset = -4.885900e-02, slope = 1.248073e+00\\r\\nvolt 5: offset = -4.901500e-02, slope = 1.248670e+00\\r\\n    EXTFREQSF = 1.000016e+00\\r\\n<Executed/>'\n"
     ]
    }
   ],
   "source": [
    "#print just instrument cals\n",
    "instr_cals = get_instrument_cal('/dev/cu.usbserial-FTXQJ5NX')\n",
    "print(instr_cals)"
   ]
  },
  {
   "cell_type": "code",
   "execution_count": 151,
   "metadata": {},
   "outputs": [],
   "source": [
    "#main function, run from here\n",
    "#instr_cals = get_instrument_cal('/dev/cu.usbserial-FTXQJ5NX')\n",
    "cal_files = read_file(request_filepath())\n",
    "#print(cal_files)\n",
    "\n",
    "text_file = open(\"Output.txt\", \"w\")\n",
    "text_file.write(cal_files)\n",
    "text_file.close()"
   ]
  },
  {
   "cell_type": "code",
   "execution_count": 133,
   "metadata": {},
   "outputs": [
    {
     "name": "stdout",
     "output_type": "stream",
     "text": [
      "A0 = 1.212524e-03\n"
     ]
    }
   ],
   "source": [
    "#inst_val = (get_instrument_cal('/dev/cu.usbserial-FTXQJ5NX'))\n",
    "#print(find_value(r\"([aA]0 = )[^\\\\\\n]*\", cal_files))\n",
    "print(find_value(r\"([aA]0 = )[^\\\\\\n]*\", instr_cals))\n"
   ]
  },
  {
   "cell_type": "code",
   "execution_count": 78,
   "metadata": {},
   "outputs": [],
   "source": [
    "if \"\":\n",
    "    print(\"tru\")"
   ]
  },
  {
   "cell_type": "code",
   "execution_count": 77,
   "metadata": {},
   "outputs": [
    {
     "name": "stdout",
     "output_type": "stream",
     "text": [
      "onetwothree\n"
     ]
    }
   ],
   "source": [
    "a = [\"one\", \"two\", \"three\"]\n",
    "n = ''.join(a)\n",
    "print(n)"
   ]
  },
  {
   "cell_type": "code",
   "execution_count": null,
   "metadata": {
    "collapsed": true
   },
   "outputs": [],
   "source": []
  },
  {
   "cell_type": "code",
   "execution_count": null,
   "metadata": {
    "collapsed": true
   },
   "outputs": [],
   "source": []
  }
 ],
 "metadata": {
  "kernelspec": {
   "display_name": "Python 3",
   "language": "python",
   "name": "python3"
  },
  "language_info": {
   "codemirror_mode": {
    "name": "ipython",
    "version": 3
   },
   "file_extension": ".py",
   "mimetype": "text/x-python",
   "name": "python",
   "nbconvert_exporter": "python",
   "pygments_lexer": "ipython3",
   "version": "3.6.3"
  }
 },
 "nbformat": 4,
 "nbformat_minor": 2
}
