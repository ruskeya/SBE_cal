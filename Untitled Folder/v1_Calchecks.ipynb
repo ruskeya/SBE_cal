{
 "cells": [
  {
   "cell_type": "code",
   "execution_count": null,
   "metadata": {
    "collapsed": true
   },
   "outputs": [],
   "source": [
    "#script to collect data from calibration sheet and instrument and compare for instrument qualification"
   ]
  },
  {
   "cell_type": "code",
   "execution_count": 39,
   "metadata": {
    "collapsed": true
   },
   "outputs": [],
   "source": [
    "#imports\n",
    "from pdfrw import PdfReader\n",
    "import numpy as np\n",
    "import pandas as pd\n",
    "import matplotlib.pyplot as plt\n",
    "import serial\n",
    "import time\n",
    "import PyPDF2\n",
    "#from datetime import datetime\n",
    "import datetime\n",
    "from tkinter.filedialog import askopenfilename\n",
    "from tkinter import *\n",
    "import re\n",
    "\n",
    "import os\n",
    "os.environ.setdefault('MAGICK_HOME', '/usr/local/Cellar/imagemagick@6/6.9.9-34/')\n",
    "from wand.image import Image\n",
    "from PIL import Image as PI\n",
    "import pyocr\n",
    "import pyocr.builders\n",
    "import io"
   ]
  },
  {
   "cell_type": "code",
   "execution_count": 6,
   "metadata": {
    "collapsed": true
   },
   "outputs": [],
   "source": [
    "#load the cal information from instrument and return as string\n",
    "def get_instrument_cal(usbpath):\n",
    "#ser = serial.Serial('/dev/cu.usbserial-FTXQJ5NX', 9600, timeout=1)\n",
    "    ser = serial.Serial(usbpath, 9600, timeout=1)\n",
    "    ser.reset_output_buffer()\n",
    "    time.sleep(2)\n",
    "    ser.write(b'DCal\\r\\n')\n",
    "    time.sleep(1)\n",
    "    s = ser.read(10000)\n",
    "    ser.close()\n",
    "    return str(s)\n"
   ]
  },
  {
   "cell_type": "code",
   "execution_count": 22,
   "metadata": {
    "collapsed": true
   },
   "outputs": [],
   "source": [
    "#prompt user for filepath to cal sheet \n",
    "def request_filepath():\n",
    "    root = Tk()\n",
    "    root.withdraw()\n",
    "    filename=askopenfilename()\n",
    "    root.update()\n",
    "    root.destroy()\n",
    "    return filename\n"
   ]
  },
  {
   "cell_type": "code",
   "execution_count": 37,
   "metadata": {},
   "outputs": [],
   "source": [
    "#read PDFFile\n",
    "#def read_file(filepath):\n",
    "#    pdfFileObj = open(filepath, 'rb')\n",
    "#    pdfReader = PyPDF2.PdfFileReader(pdfFileObj)\n",
    "#    pageObj = pdfReader.getPage(0)\n",
    "#    ret = pageObj.extractText()\n",
    "#    return str(ret)\n",
    "\n",
    "#read PDYFile via OCR\n",
    "#credit to https://pythontips.com/2016/02/25/ocr-on-pdf-files-using-python/\n",
    "def read_file(filepath):\n",
    "    tool = pyocr.get_available_tools()[0]\n",
    "    lang = tool.get_available_languages()[0]\n",
    "    req_image = []\n",
    "    final_text = []\n",
    "    image_pdf = Image(filename=filepath, resolution=300)\n",
    "    image_jpeg = image_pdf.convert('jpeg')\n",
    "    for img in image_jpeg.sequence:\n",
    "        img_page = Image(image=img)\n",
    "        req_image.append(img_page.make_blob('jpeg'))\n",
    "    for img in req_image: \n",
    "        txt = tool.image_to_string(\n",
    "            PI.open(io.BytesIO(img)),\n",
    "            lang=lang,\n",
    "            builder=pyocr.builders.TextBuilder()\n",
    "        )\n",
    "    final_text.append(txt)\n",
    "    return final_text"
   ]
  },
  {
   "cell_type": "code",
   "execution_count": 68,
   "metadata": {},
   "outputs": [
    {
     "name": "stdout",
     "output_type": "stream",
     "text": [
      "g = 1.2999449-004\\\n"
     ]
    }
   ],
   "source": [
    "#compare cal file and instruments\n",
    "\n",
    "def compare_cals(instr, sheet):\n",
    "    temp_tags = [\"([aA]0 = )[^\\\\\\]*\", \"([aA]1 = )[^\\\\\\]*\", \"([aA]2 = )[^\\\\\\]*\", \"([aA]3 = )[^\\\\\\]*\"]\n",
    "    cond_tags = []\n",
    "    press_tags = [\"(g = ).{14}\", \"(h = ).{14}\", \"(i = ).{14}\", \"(j = ).{14}\"]\n",
    "    \n",
    "\n",
    "def find_value(tag, input_file):\n",
    "    m = re.search(tag , input_file)\n",
    "    return m.group(0)\n",
    "\n",
    "print(str(find_value(\"(g = ).{14}\", \"albert is a g = 1.2999449-004\\\\na1\\\\dslfja\")))\n",
    "#print(\"albert is a a0 = 1.2999449-004\\na1\\dslfja\")"
   ]
  },
  {
   "cell_type": "code",
   "execution_count": null,
   "metadata": {
    "collapsed": true
   },
   "outputs": [],
   "source": []
  },
  {
   "cell_type": "code",
   "execution_count": null,
   "metadata": {
    "collapsed": true
   },
   "outputs": [],
   "source": []
  },
  {
   "cell_type": "code",
   "execution_count": null,
   "metadata": {
    "collapsed": true
   },
   "outputs": [],
   "source": []
  },
  {
   "cell_type": "code",
   "execution_count": null,
   "metadata": {
    "collapsed": true
   },
   "outputs": [],
   "source": []
  },
  {
   "cell_type": "code",
   "execution_count": 40,
   "metadata": {},
   "outputs": [
    {
     "name": "stdout",
     "output_type": "stream",
     "text": [
      "Sea—Bird Electronics, Inc.\n",
      "\n",
      "13431 NE 20th Street, Bellevue, WA 98005-2010 USA\n",
      "Phone: (+1) 425—643—9866 Fax (+1) 425—643-9954 Email: seabird@seabird.com\n",
      "\n",
      "SENSOR SERIAL NUMBER: 7792 SEE 19plus V2 TEMPERATURE CALIBRATION DATA\n",
      "CALIBRATION DATE: 22—Mar-17 ITS—90 TEMPERATURE SCALE\n",
      "\n",
      "COEFFICIENTS:\n",
      "\n",
      "a0 = 1.2125248-003\n",
      "a1 = 2.7851298-004\n",
      "a2 = —8.1760588-007\n",
      "a3 = 1.688228e—007\n",
      "BATH TEMP INSTRUMENT INST TEMP RESIDUAL\n",
      "(° C) OUTPUT (counts) (° C) (° C)\n",
      "1.0000 549684.345 1.0000 ~0.0000\n",
      "4.5000 486084.373 4.5001 0.0001\n",
      "15.0000 330551.136 15.0000 0.0000\n",
      "18.5000 289294.483 18.4999 —0.0001\n",
      "29.0000 191356.845 29.0001 0.0001\n",
      "32.5000 165928.051 32.4999 ‘0.0001\n",
      "WWW,Wnmemmolﬁpm(counts)m-...mwwwmm-m-wmw~w\n",
      "\n",
      "MV = (n - 524288)/ 1.6e+007\n",
      "R = (MV * 2.900e+009 + 1.024e+008) / (2.048e+004 — MV * 2.0e+005)\n",
      "Temperature ITS—90 (°C) = 1/{a0 + a1[ln(R)] + a2[ln2(R)] + a3 [In3(R)]} — 273.15\n",
      "\n",
      "Residual (°C) = instrument temperature - bath temperature\n",
      "Date, Offset (mdeg C)\n",
      "\n",
      "0.02”“““‘”‘I”””‘\"\"I'”“”““I\"\"\"“‘I’“””“\"I““\"“I\"\"\"”I ”””””” 3 22-Mar-17 —0.00‘\n",
      "‘ I I I I I I I\n",
      "_ I I I I I I I\n",
      "“ I I I I I I I\n",
      "— I I I I l I I\n",
      "001~ ———————\n",
      "A _ | I | I I I I\n",
      "O I I I I I I l\n",
      "H I l | I I I I\n",
      "$ _ I I I I I I I\n",
      "<1) I I\n",
      "‘5; — I I I I I I I\n",
      "25': 0— — - - — « - :— 1.1.1-3 WIW~-~-I——- -. ~~ 4+- - ~ 1.41.. — —-\n",
      "__ .. I\n",
      "m : : : : : . I\n",
      "g .— I I | I I I I\n",
      "'5 g I I I I I I I\n",
      "I I I I I I I\n",
      "g — I I I I I I I\n",
      "om— ———————\n",
      "- I I I I I I I\n",
      "I I I I I I I\n",
      "_ I I | I I I I\n",
      "w I I I I I I I\n",
      "I I 1 I I I I\n",
      "—— I I I I I I I\n",
      "I I I I I I I\n",
      "'O-OZT—I\"I\"T'l'i_7‘FT'I'£\"_I‘F1‘I‘E'I'I‘ﬁl'F-i-I‘F'I'I'TW‘T‘I‘F—i-I'TW'F]'I'T-I‘IHI\n",
      "-5 0 5 1O 15 20 25 30 35\n",
      "\n",
      "Temperature (Degrees C)\n"
     ]
    }
   ],
   "source": [
    "#main function, run from here\n",
    "instr_cals = get_instrument_cal('/dev/cu.usbserial-FTXQJ5NX')\n",
    "cal_files = read_file(request_filepath())\n",
    "print(cal_files[0])"
   ]
  },
  {
   "cell_type": "code",
   "execution_count": null,
   "metadata": {
    "collapsed": true
   },
   "outputs": [],
   "source": []
  },
  {
   "cell_type": "code",
   "execution_count": null,
   "metadata": {
    "collapsed": true
   },
   "outputs": [],
   "source": []
  },
  {
   "cell_type": "code",
   "execution_count": null,
   "metadata": {
    "collapsed": true
   },
   "outputs": [],
   "source": []
  },
  {
   "cell_type": "code",
   "execution_count": null,
   "metadata": {
    "collapsed": true
   },
   "outputs": [],
   "source": []
  },
  {
   "cell_type": "code",
   "execution_count": null,
   "metadata": {
    "collapsed": true
   },
   "outputs": [],
   "source": []
  }
 ],
 "metadata": {
  "kernelspec": {
   "display_name": "Python 3",
   "language": "python",
   "name": "python3"
  },
  "language_info": {
   "codemirror_mode": {
    "name": "ipython",
    "version": 3
   },
   "file_extension": ".py",
   "mimetype": "text/x-python",
   "name": "python",
   "nbconvert_exporter": "python",
   "pygments_lexer": "ipython3",
   "version": "3.6.3"
  }
 },
 "nbformat": 4,
 "nbformat_minor": 2
}
