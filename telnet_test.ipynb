{
 "cells": [
  {
   "cell_type": "code",
   "execution_count": 2,
   "metadata": {},
   "outputs": [
    {
     "name": "stdout",
     "output_type": "stream",
     "text": [
      "b'SBE 19plus\\r\\nS>TS\\r\\n 21.3935,  0.00003,    0.119, 17.174, 0.617127,   0.0106, 1486.571\\r\\n<Executed/>'2018/03/05 16:18:43:392806\n"
     ]
    }
   ],
   "source": [
    "import telnetlib\n",
    "import getpass \n",
    "import sys\n",
    "import time\n",
    "import datetime\n",
    "\n",
    "HOST = \"10.136.1.99\"\n",
    "tn = telnetlib.Telnet(HOST, \"4001\", 5)\n",
    "tn.write((\"\\r\\n\").encode('ascii'))\n",
    "time.sleep(2)\n",
    "sample_time = datetime.datetime.now().strftime('%Y/%m/%d %H:%M:%S:%f')\n",
    "tn.write((\"TS\\r\\n\").encode('ascii'))\n",
    "time.sleep(60)\n",
    "data = str(tn.read_very_eager())\n",
    "data += sample_time\n",
    "print(data)\n",
    "tn.close()"
   ]
  },
  {
   "cell_type": "code",
   "execution_count": 19,
   "metadata": {},
   "outputs": [
    {
     "name": "stdout",
     "output_type": "stream",
     "text": [
      "2018/03/01 15:24:35:506284\n"
     ]
    },
    {
     "ename": "AttributeError",
     "evalue": "'str' object has no attribute 'append'",
     "output_type": "error",
     "traceback": [
      "\u001b[0;31m---------------------------------------------------------------------------\u001b[0m",
      "\u001b[0;31mAttributeError\u001b[0m                            Traceback (most recent call last)",
      "\u001b[0;32m<ipython-input-19-0ded680bd754>\u001b[0m in \u001b[0;36m<module>\u001b[0;34m()\u001b[0m\n\u001b[1;32m      1\u001b[0m \u001b[0mtn\u001b[0m\u001b[0;34m.\u001b[0m\u001b[0mclose\u001b[0m\u001b[0;34m(\u001b[0m\u001b[0;34m)\u001b[0m\u001b[0;34m\u001b[0m\u001b[0m\n\u001b[1;32m      2\u001b[0m \u001b[0mprint\u001b[0m\u001b[0;34m(\u001b[0m\u001b[0mdatetime\u001b[0m\u001b[0;34m.\u001b[0m\u001b[0mdatetime\u001b[0m\u001b[0;34m.\u001b[0m\u001b[0mnow\u001b[0m\u001b[0;34m(\u001b[0m\u001b[0;34m)\u001b[0m\u001b[0;34m.\u001b[0m\u001b[0mstrftime\u001b[0m\u001b[0;34m(\u001b[0m\u001b[0;34m'%Y/%m/%d %H:%M:%S:%f'\u001b[0m\u001b[0;34m)\u001b[0m\u001b[0;34m)\u001b[0m\u001b[0;34m\u001b[0m\u001b[0m\n\u001b[0;32m----> 3\u001b[0;31m \u001b[0;34m\"hillo\"\u001b[0m\u001b[0;34m.\u001b[0m\u001b[0mappend\u001b[0m\u001b[0;34m(\u001b[0m\u001b[0;34m\"goofyshoes\"\u001b[0m\u001b[0;34m)\u001b[0m\u001b[0;34m\u001b[0m\u001b[0m\n\u001b[0m",
      "\u001b[0;31mAttributeError\u001b[0m: 'str' object has no attribute 'append'"
     ]
    }
   ],
   "source": [
    "tn.close()\n",
    "print(datetime.datetime.now().strftime('%Y/%m/%d %H:%M:%S:%f'))\n",
    "\"hillo\".append(\"goofyshoes\")"
   ]
  },
  {
   "cell_type": "code",
   "execution_count": 12,
   "metadata": {},
   "outputs": [
    {
     "name": "stdout",
     "output_type": "stream",
     "text": [
      "03\n"
     ]
    }
   ],
   "source": [
    "HOST = \"10.136.1.99\"\n",
    "tn = telnetlib.Telnet(HOST, \"4002\", 5)\n",
    "tn.write((\"id?\\r\\n\").encode('ascii'))\n",
    "time.sleep(1)\n",
    "tn.write((\"id?\\r\\n\").encode('ascii'))\n",
    "time.sleep(1)\n",
    "data = str(tn.read_very_eager())[5:7]\n",
    "print(data)\n",
    "tn.close()"
   ]
  },
  {
   "cell_type": "code",
   "execution_count": 35,
   "metadata": {},
   "outputs": [
    {
     "name": "stdout",
     "output_type": "stream",
     "text": [
      "b'id=03\\r\\nS>03, 03705679,  23.0735, -0.00002,1986.440, 1524.948,  6.4375, 02 Mar 2018, 00:03:13\\r\\n<Executed/>\\r\\n'2018/03/01 15:57:09:552154\n",
      "b'\\r\\n<Executed/>TS\\r\\n 23.7154,  0.00003,   -0.146, 17.146, 0.573744,   0.0115, 1493.217\\r\\n<Executed/>'2018/03/01 15:57:10:551609\n"
     ]
    }
   ],
   "source": [
    "###threaded telnet to two instruments - take sample -=WORKING=-\n",
    "import telnetlib\n",
    "import getpass \n",
    "import sys\n",
    "import time\n",
    "import serial\n",
    "import threading\n",
    "\n",
    "def connect_ref(s):\n",
    "    tn = s\n",
    "    tn.write((\"\\r\\n\").encode('ascii'))\n",
    "    time.sleep(2)\n",
    "    sample_time = datetime.datetime.now().strftime('%Y/%m/%d %H:%M:%S:%f')\n",
    "    tn.write((\"TS\\r\\n\").encode('ascii'))\n",
    "    time.sleep(60)\n",
    "    data = str(tn.read_very_eager())\n",
    "    data += sample_time\n",
    "    print(data)\n",
    "    tn.close()\n",
    "\n",
    "def connect_rma(s):\n",
    "    tn = s\n",
    "    tn.write((\"id?\\r\\n\").encode('ascii'))\n",
    "    time.sleep(1)\n",
    "    sample_time = datetime.datetime.now().strftime('%Y/%m/%d %H:%M:%S:%f')\n",
    "    tn.write((\"#03TS\\r\\n\").encode('ascii'))\n",
    "    time.sleep(60)\n",
    "    data = str(tn.read_very_eager())\n",
    "    data += sample_time\n",
    "    print(data)\n",
    "    tn.close()\n",
    "    \n",
    "rma_tn = telnetlib.Telnet(\"10.136.1.99\", \"4002\", 5)\n",
    "ref_tn = telnetlib.Telnet(\"10.136.1.99\", \"4001\", 5)    \n",
    "    \n",
    "threadRMA = threading.Thread(target=connect_rma, args=(rma_tn,),).start()\n",
    "threadREF = threading.Thread(target=connect_ref, args=(ref_tn,),).start()\n",
    "\n"
   ]
  },
  {
   "cell_type": "code",
   "execution_count": null,
   "metadata": {
    "collapsed": true
   },
   "outputs": [],
   "source": [
    "import serial\n",
    "import Queue\n",
    "import threading\n",
    "\n",
    "queue = Queue.Queue(1000)\n",
    "\n",
    "serA = serial.Serial('/dev/arduino', 230400)\n",
    "serT = serial.Serial('/dev/teensy', 9600)\n",
    "\n",
    "def serial_read(s):\n",
    "    while 1:\n",
    "        line = s.readline()\n",
    "        queue.put(line)\n",
    "\n",
    "threadA = threading.Thread(target=serial_read, args=(serA,),).start()\n",
    "threadT = threading.Thread(target=serial_read, args=(serT,),).start()\n",
    "\n",
    "while 1:\n",
    "    line = queue.get(True, 1)\n",
    "    print line"
   ]
  },
  {
   "cell_type": "code",
   "execution_count": 36,
   "metadata": {
    "collapsed": true
   },
   "outputs": [],
   "source": [
    "rma_tn.close()\n",
    "ref_tn.close()"
   ]
  },
  {
   "cell_type": "code",
   "execution_count": null,
   "metadata": {
    "collapsed": true
   },
   "outputs": [],
   "source": []
  },
  {
   "cell_type": "code",
   "execution_count": null,
   "metadata": {
    "collapsed": true
   },
   "outputs": [],
   "source": []
  },
  {
   "cell_type": "code",
   "execution_count": null,
   "metadata": {
    "collapsed": true
   },
   "outputs": [],
   "source": []
  }
 ],
 "metadata": {
  "kernelspec": {
   "display_name": "Python 3",
   "language": "python",
   "name": "python3"
  },
  "language_info": {
   "codemirror_mode": {
    "name": "ipython",
    "version": 3
   },
   "file_extension": ".py",
   "mimetype": "text/x-python",
   "name": "python",
   "nbconvert_exporter": "python",
   "pygments_lexer": "ipython3",
   "version": "3.6.3"
  }
 },
 "nbformat": 4,
 "nbformat_minor": 2
}
