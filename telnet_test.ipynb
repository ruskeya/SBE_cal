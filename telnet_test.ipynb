{
 "cells": [
  {
   "cell_type": "code",
   "execution_count": 11,
   "metadata": {},
   "outputs": [
    {
     "ename": "ConnectionRefusedError",
     "evalue": "[Errno 61] Connection refused",
     "output_type": "error",
     "traceback": [
      "\u001b[0;31m---------------------------------------------------------------------------\u001b[0m",
      "\u001b[0;31mConnectionRefusedError\u001b[0m                    Traceback (most recent call last)",
      "\u001b[0;32m<ipython-input-11-98929c663427>\u001b[0m in \u001b[0;36m<module>\u001b[0;34m()\u001b[0m\n\u001b[1;32m      6\u001b[0m \u001b[0;34m\u001b[0m\u001b[0m\n\u001b[1;32m      7\u001b[0m \u001b[0mHOST\u001b[0m \u001b[0;34m=\u001b[0m \u001b[0;34m\"10.136.1.99\"\u001b[0m\u001b[0;34m\u001b[0m\u001b[0m\n\u001b[0;32m----> 8\u001b[0;31m \u001b[0mtn\u001b[0m \u001b[0;34m=\u001b[0m \u001b[0mtelnetlib\u001b[0m\u001b[0;34m.\u001b[0m\u001b[0mTelnet\u001b[0m\u001b[0;34m(\u001b[0m\u001b[0mHOST\u001b[0m\u001b[0;34m,\u001b[0m \u001b[0;34m\"4001\"\u001b[0m\u001b[0;34m,\u001b[0m \u001b[0;36m5\u001b[0m\u001b[0;34m)\u001b[0m\u001b[0;34m\u001b[0m\u001b[0m\n\u001b[0m\u001b[1;32m      9\u001b[0m \u001b[0mtn\u001b[0m\u001b[0;34m.\u001b[0m\u001b[0mwrite\u001b[0m\u001b[0;34m(\u001b[0m\u001b[0;34m(\u001b[0m\u001b[0;34m\"\\r\\n\"\u001b[0m\u001b[0;34m)\u001b[0m\u001b[0;34m.\u001b[0m\u001b[0mencode\u001b[0m\u001b[0;34m(\u001b[0m\u001b[0;34m'ascii'\u001b[0m\u001b[0;34m)\u001b[0m\u001b[0;34m)\u001b[0m\u001b[0;34m\u001b[0m\u001b[0m\n\u001b[1;32m     10\u001b[0m \u001b[0mtime\u001b[0m\u001b[0;34m.\u001b[0m\u001b[0msleep\u001b[0m\u001b[0;34m(\u001b[0m\u001b[0;36m2\u001b[0m\u001b[0;34m)\u001b[0m\u001b[0;34m\u001b[0m\u001b[0m\n",
      "\u001b[0;32m~/anaconda3/lib/python3.6/telnetlib.py\u001b[0m in \u001b[0;36m__init__\u001b[0;34m(self, host, port, timeout)\u001b[0m\n\u001b[1;32m    216\u001b[0m         \u001b[0mself\u001b[0m\u001b[0;34m.\u001b[0m\u001b[0moption_callback\u001b[0m \u001b[0;34m=\u001b[0m \u001b[0;32mNone\u001b[0m\u001b[0;34m\u001b[0m\u001b[0m\n\u001b[1;32m    217\u001b[0m         \u001b[0;32mif\u001b[0m \u001b[0mhost\u001b[0m \u001b[0;32mis\u001b[0m \u001b[0;32mnot\u001b[0m \u001b[0;32mNone\u001b[0m\u001b[0;34m:\u001b[0m\u001b[0;34m\u001b[0m\u001b[0m\n\u001b[0;32m--> 218\u001b[0;31m             \u001b[0mself\u001b[0m\u001b[0;34m.\u001b[0m\u001b[0mopen\u001b[0m\u001b[0;34m(\u001b[0m\u001b[0mhost\u001b[0m\u001b[0;34m,\u001b[0m \u001b[0mport\u001b[0m\u001b[0;34m,\u001b[0m \u001b[0mtimeout\u001b[0m\u001b[0;34m)\u001b[0m\u001b[0;34m\u001b[0m\u001b[0m\n\u001b[0m\u001b[1;32m    219\u001b[0m \u001b[0;34m\u001b[0m\u001b[0m\n\u001b[1;32m    220\u001b[0m     \u001b[0;32mdef\u001b[0m \u001b[0mopen\u001b[0m\u001b[0;34m(\u001b[0m\u001b[0mself\u001b[0m\u001b[0;34m,\u001b[0m \u001b[0mhost\u001b[0m\u001b[0;34m,\u001b[0m \u001b[0mport\u001b[0m\u001b[0;34m=\u001b[0m\u001b[0;36m0\u001b[0m\u001b[0;34m,\u001b[0m \u001b[0mtimeout\u001b[0m\u001b[0;34m=\u001b[0m\u001b[0msocket\u001b[0m\u001b[0;34m.\u001b[0m\u001b[0m_GLOBAL_DEFAULT_TIMEOUT\u001b[0m\u001b[0;34m)\u001b[0m\u001b[0;34m:\u001b[0m\u001b[0;34m\u001b[0m\u001b[0m\n",
      "\u001b[0;32m~/anaconda3/lib/python3.6/telnetlib.py\u001b[0m in \u001b[0;36mopen\u001b[0;34m(self, host, port, timeout)\u001b[0m\n\u001b[1;32m    232\u001b[0m         \u001b[0mself\u001b[0m\u001b[0;34m.\u001b[0m\u001b[0mport\u001b[0m \u001b[0;34m=\u001b[0m \u001b[0mport\u001b[0m\u001b[0;34m\u001b[0m\u001b[0m\n\u001b[1;32m    233\u001b[0m         \u001b[0mself\u001b[0m\u001b[0;34m.\u001b[0m\u001b[0mtimeout\u001b[0m \u001b[0;34m=\u001b[0m \u001b[0mtimeout\u001b[0m\u001b[0;34m\u001b[0m\u001b[0m\n\u001b[0;32m--> 234\u001b[0;31m         \u001b[0mself\u001b[0m\u001b[0;34m.\u001b[0m\u001b[0msock\u001b[0m \u001b[0;34m=\u001b[0m \u001b[0msocket\u001b[0m\u001b[0;34m.\u001b[0m\u001b[0mcreate_connection\u001b[0m\u001b[0;34m(\u001b[0m\u001b[0;34m(\u001b[0m\u001b[0mhost\u001b[0m\u001b[0;34m,\u001b[0m \u001b[0mport\u001b[0m\u001b[0;34m)\u001b[0m\u001b[0;34m,\u001b[0m \u001b[0mtimeout\u001b[0m\u001b[0;34m)\u001b[0m\u001b[0;34m\u001b[0m\u001b[0m\n\u001b[0m\u001b[1;32m    235\u001b[0m \u001b[0;34m\u001b[0m\u001b[0m\n\u001b[1;32m    236\u001b[0m     \u001b[0;32mdef\u001b[0m \u001b[0m__del__\u001b[0m\u001b[0;34m(\u001b[0m\u001b[0mself\u001b[0m\u001b[0;34m)\u001b[0m\u001b[0;34m:\u001b[0m\u001b[0;34m\u001b[0m\u001b[0m\n",
      "\u001b[0;32m~/anaconda3/lib/python3.6/socket.py\u001b[0m in \u001b[0;36mcreate_connection\u001b[0;34m(address, timeout, source_address)\u001b[0m\n\u001b[1;32m    722\u001b[0m \u001b[0;34m\u001b[0m\u001b[0m\n\u001b[1;32m    723\u001b[0m     \u001b[0;32mif\u001b[0m \u001b[0merr\u001b[0m \u001b[0;32mis\u001b[0m \u001b[0;32mnot\u001b[0m \u001b[0;32mNone\u001b[0m\u001b[0;34m:\u001b[0m\u001b[0;34m\u001b[0m\u001b[0m\n\u001b[0;32m--> 724\u001b[0;31m         \u001b[0;32mraise\u001b[0m \u001b[0merr\u001b[0m\u001b[0;34m\u001b[0m\u001b[0m\n\u001b[0m\u001b[1;32m    725\u001b[0m     \u001b[0;32melse\u001b[0m\u001b[0;34m:\u001b[0m\u001b[0;34m\u001b[0m\u001b[0m\n\u001b[1;32m    726\u001b[0m         \u001b[0;32mraise\u001b[0m \u001b[0merror\u001b[0m\u001b[0;34m(\u001b[0m\u001b[0;34m\"getaddrinfo returns an empty list\"\u001b[0m\u001b[0;34m)\u001b[0m\u001b[0;34m\u001b[0m\u001b[0m\n",
      "\u001b[0;32m~/anaconda3/lib/python3.6/socket.py\u001b[0m in \u001b[0;36mcreate_connection\u001b[0;34m(address, timeout, source_address)\u001b[0m\n\u001b[1;32m    711\u001b[0m             \u001b[0;32mif\u001b[0m \u001b[0msource_address\u001b[0m\u001b[0;34m:\u001b[0m\u001b[0;34m\u001b[0m\u001b[0m\n\u001b[1;32m    712\u001b[0m                 \u001b[0msock\u001b[0m\u001b[0;34m.\u001b[0m\u001b[0mbind\u001b[0m\u001b[0;34m(\u001b[0m\u001b[0msource_address\u001b[0m\u001b[0;34m)\u001b[0m\u001b[0;34m\u001b[0m\u001b[0m\n\u001b[0;32m--> 713\u001b[0;31m             \u001b[0msock\u001b[0m\u001b[0;34m.\u001b[0m\u001b[0mconnect\u001b[0m\u001b[0;34m(\u001b[0m\u001b[0msa\u001b[0m\u001b[0;34m)\u001b[0m\u001b[0;34m\u001b[0m\u001b[0m\n\u001b[0m\u001b[1;32m    714\u001b[0m             \u001b[0;31m# Break explicitly a reference cycle\u001b[0m\u001b[0;34m\u001b[0m\u001b[0;34m\u001b[0m\u001b[0m\n\u001b[1;32m    715\u001b[0m             \u001b[0merr\u001b[0m \u001b[0;34m=\u001b[0m \u001b[0;32mNone\u001b[0m\u001b[0;34m\u001b[0m\u001b[0m\n",
      "\u001b[0;31mConnectionRefusedError\u001b[0m: [Errno 61] Connection refused"
     ]
    }
   ],
   "source": [
    "import telnetlib\n",
    "import getpass \n",
    "import sys\n",
    "import time\n",
    "import datetime\n",
    "\n",
    "HOST = \"10.136.1.99\"\n",
    "tn = telnetlib.Telnet(HOST, \"4001\", 5)\n",
    "tn.write((\"\\r\\n\").encode('ascii'))\n",
    "time.sleep(2)\n",
    "sample_time = datetime.datetime.now().strftime('%Y/%m/%d %H:%M:%S:%f')\n",
    "tn.write((\"TS\\r\\n\").encode('ascii'))\n",
    "time.sleep(60)\n",
    "data = str(tn.read_very_eager())\n",
    "data += sample_time\n",
    "print(data)\n",
    "tn.close()"
   ]
  },
  {
   "cell_type": "code",
   "execution_count": 14,
   "metadata": {},
   "outputs": [
    {
     "ename": "AttributeError",
     "evalue": "module 'telnetlib' has no attribute 'get_socket'",
     "output_type": "error",
     "traceback": [
      "\u001b[0;31m---------------------------------------------------------------------------\u001b[0m",
      "\u001b[0;31mAttributeError\u001b[0m                            Traceback (most recent call last)",
      "\u001b[0;32m<ipython-input-14-d8456e16fbfd>\u001b[0m in \u001b[0;36m<module>\u001b[0;34m()\u001b[0m\n\u001b[0;32m----> 1\u001b[0;31m \u001b[0mtelnetlib\u001b[0m\u001b[0;34m.\u001b[0m\u001b[0mget_socket\u001b[0m\u001b[0;34m(\u001b[0m\u001b[0;34m)\u001b[0m\u001b[0;34m.\u001b[0m\u001b[0mclose\u001b[0m\u001b[0;34m(\u001b[0m\u001b[0;34m)\u001b[0m\u001b[0;34m\u001b[0m\u001b[0m\n\u001b[0m",
      "\u001b[0;31mAttributeError\u001b[0m: module 'telnetlib' has no attribute 'get_socket'"
     ]
    }
   ],
   "source": [
    "telnetlib.get_socket().close()"
   ]
  },
  {
   "cell_type": "code",
   "execution_count": 19,
   "metadata": {},
   "outputs": [
    {
     "name": "stdout",
     "output_type": "stream",
     "text": [
      "2018/03/01 15:24:35:506284\n"
     ]
    },
    {
     "ename": "AttributeError",
     "evalue": "'str' object has no attribute 'append'",
     "output_type": "error",
     "traceback": [
      "\u001b[0;31m---------------------------------------------------------------------------\u001b[0m",
      "\u001b[0;31mAttributeError\u001b[0m                            Traceback (most recent call last)",
      "\u001b[0;32m<ipython-input-19-0ded680bd754>\u001b[0m in \u001b[0;36m<module>\u001b[0;34m()\u001b[0m\n\u001b[1;32m      1\u001b[0m \u001b[0mtn\u001b[0m\u001b[0;34m.\u001b[0m\u001b[0mclose\u001b[0m\u001b[0;34m(\u001b[0m\u001b[0;34m)\u001b[0m\u001b[0;34m\u001b[0m\u001b[0m\n\u001b[1;32m      2\u001b[0m \u001b[0mprint\u001b[0m\u001b[0;34m(\u001b[0m\u001b[0mdatetime\u001b[0m\u001b[0;34m.\u001b[0m\u001b[0mdatetime\u001b[0m\u001b[0;34m.\u001b[0m\u001b[0mnow\u001b[0m\u001b[0;34m(\u001b[0m\u001b[0;34m)\u001b[0m\u001b[0;34m.\u001b[0m\u001b[0mstrftime\u001b[0m\u001b[0;34m(\u001b[0m\u001b[0;34m'%Y/%m/%d %H:%M:%S:%f'\u001b[0m\u001b[0;34m)\u001b[0m\u001b[0;34m)\u001b[0m\u001b[0;34m\u001b[0m\u001b[0m\n\u001b[0;32m----> 3\u001b[0;31m \u001b[0;34m\"hillo\"\u001b[0m\u001b[0;34m.\u001b[0m\u001b[0mappend\u001b[0m\u001b[0;34m(\u001b[0m\u001b[0;34m\"goofyshoes\"\u001b[0m\u001b[0;34m)\u001b[0m\u001b[0;34m\u001b[0m\u001b[0m\n\u001b[0m",
      "\u001b[0;31mAttributeError\u001b[0m: 'str' object has no attribute 'append'"
     ]
    }
   ],
   "source": [
    "tn.close()\n",
    "print(datetime.datetime.now().strftime('%Y/%m/%d %H:%M:%S:%f'))\n",
    "\"hillo\".append(\"goofyshoes\")"
   ]
  },
  {
   "cell_type": "code",
   "execution_count": 12,
   "metadata": {},
   "outputs": [
    {
     "name": "stdout",
     "output_type": "stream",
     "text": [
      "03\n"
     ]
    }
   ],
   "source": [
    "HOST = \"10.136.1.99\"\n",
    "tn = telnetlib.Telnet(HOST, \"4002\", 5)\n",
    "tn.write((\"id?\\r\\n\").encode('ascii'))\n",
    "time.sleep(1)\n",
    "tn.write((\"id?\\r\\n\").encode('ascii'))\n",
    "time.sleep(1)\n",
    "data = str(tn.read_very_eager())[5:7]\n",
    "print(data)\n",
    "tn.close()"
   ]
  },
  {
   "cell_type": "code",
   "execution_count": 25,
   "metadata": {},
   "outputs": [
    {
     "name": "stdout",
     "output_type": "stream",
     "text": [
      "None\n"
     ]
    }
   ],
   "source": [
    "###threaded telnet to two instruments - take sample -=WORKING=-\n",
    "import telnetlib\n",
    "import getpass \n",
    "import sys\n",
    "import time\n",
    "import serial\n",
    "import threading\n",
    "import datetime\n",
    "\n",
    "def connect_ref(s):\n",
    "    tn = s\n",
    "    tn.write((\"\\r\\n\").encode('ascii'))\n",
    "    time.sleep(2)\n",
    "    data_arr = []\n",
    "    for x in range(1):\n",
    "        sample_time = datetime.datetime.now().strftime('%Y/%m/%d %H:%M:%S:%f')\n",
    "        tn.write((\"TS\\r\\n\").encode('ascii'))\n",
    "        time.sleep(60)\n",
    "        data = str(tn.read_very_eager())\n",
    "        data = sample_time+ \", \"  + data\n",
    "    #print(data)\n",
    "        data_arr.append(data)\n",
    "    tn.close()\n",
    "    return data_arr\n",
    "\n",
    "def connect_rma(s):\n",
    "    tn = s\n",
    "    tn.write((\"id?\\r\\n\").encode('ascii'))\n",
    "    time.sleep(1)\n",
    "    data_arr = []\n",
    "    for x in range(1):\n",
    "        sample_time = datetime.datetime.now().strftime('%Y/%m/%d %H:%M:%S:%f')\n",
    "        tn.write((\"#03TS\\r\\n\").encode('ascii'))\n",
    "        time.sleep(60)\n",
    "        data = str(tn.read_very_eager())\n",
    "        data = sample_time+ \", \" + data\n",
    "        #print(data)\n",
    "        data_arr.append(data)\n",
    "    tn.close()\n",
    "    return data_arr\n",
    "    \n",
    "rma_tn = telnetlib.Telnet(\"10.136.1.99\", \"4002\", 5)\n",
    "ref_tn = telnetlib.Telnet(\"10.136.1.99\", \"4001\", 5)    \n",
    "\n",
    "threadRMA = threading.Thread(target=connect_rma, args=(rma_tn,),).start()\n",
    "threadREF = threading.Thread(target=connect_ref, args=(ref_tn,),).start()\n",
    "\n",
    "print (threadRMA)"
   ]
  },
  {
   "cell_type": "code",
   "execution_count": 40,
   "metadata": {},
   "outputs": [
    {
     "name": "stdout",
     "output_type": "stream",
     "text": [
      "[\"2018/03/08 10:32:34:876789, b'id=03\\\\r\\\\nS>03, 03705679,  21.2480, -0.00002,1986.440, 1519.541,  6.9051, 08 Mar 2018, 18:38:39\\\\r\\\\n<Executed/>\\\\r\\\\n'\"]\n",
      "[\"2018/03/08 10:32:35:876274, b'\\\\r\\\\n<Executed/>TS\\\\r\\\\n 20.9805,  0.02885,   -0.148, 17.372, 0.617683,   0.1510, 1485.502\\\\r\\\\n<Executed/>'\"]\n"
     ]
    }
   ],
   "source": [
    "def connect_rma(s):\n",
    "    tn = s\n",
    "    tn.write((\"id?\\r\\n\").encode('ascii'))\n",
    "    time.sleep(1)\n",
    "    data_arr = []\n",
    "    for x in range(1):\n",
    "        sample_time = datetime.datetime.now().strftime('%Y/%m/%d %H:%M:%S:%f')\n",
    "        tn.write((\"#03TS\\r\\n\").encode('ascii'))\n",
    "        time.sleep(60)\n",
    "        data = str(tn.read_very_eager())\n",
    "        data = sample_time+ \", \" + data\n",
    "        #print(data)\n",
    "        data_arr.append(data)\n",
    "    tn.close()\n",
    "    return data_arr\n",
    "\n",
    "def connect_ref(s):\n",
    "    tn = s\n",
    "    tn.write((\"\\r\\n\").encode('ascii'))\n",
    "    time.sleep(2)\n",
    "    data_arr = []\n",
    "    for x in range(1):\n",
    "        sample_time = datetime.datetime.now().strftime('%Y/%m/%d %H:%M:%S:%f')\n",
    "        tn.write((\"TS\\r\\n\").encode('ascii'))\n",
    "        time.sleep(60)\n",
    "        data = str(tn.read_very_eager())\n",
    "        data = sample_time+ \", \"  + data\n",
    "    #print(data)\n",
    "        data_arr.append(data)\n",
    "    tn.close()\n",
    "    return data_arr\n",
    "\n",
    "from multiprocessing.pool import ThreadPool\n",
    "pool = ThreadPool(processes=2)\n",
    "\n",
    "rma_tn = telnetlib.Telnet(\"10.136.1.99\", \"4002\", 5)\n",
    "ref_tn = telnetlib.Telnet(\"10.136.1.99\", \"4001\", 5)\n",
    "\n",
    "rma_sample = pool.apply_async(connect_rma, args=(rma_tn,)) # tuple of args for foo\n",
    "ref_sample = pool.apply_async(connect_ref, args=(ref_tn,)) # tuple of args for foo\n",
    "\n",
    "# do some other stuff in the main process\n",
    "\n",
    "rma_values = rma_sample.get() \n",
    "ref_values = ref_sample.get()\n",
    "print(rma_values)\n",
    "print(ref_values)"
   ]
  },
  {
   "cell_type": "code",
   "execution_count": null,
   "metadata": {
    "collapsed": true
   },
   "outputs": [],
   "source": [
    "import serial\n",
    "import Queue\n",
    "import threading\n",
    "\n",
    "queue = Queue.Queue(1000)\n",
    "\n",
    "serA = serial.Serial('/dev/arduino', 230400)\n",
    "serT = serial.Serial('/dev/teensy', 9600)\n",
    "\n",
    "def serial_read(s):\n",
    "    while 1:\n",
    "        line = s.readline()\n",
    "        queue.put(line)\n",
    "\n",
    "threadA = threading.Thread(target=serial_read, args=(serA,),).start()\n",
    "threadT = threading.Thread(target=serial_read, args=(serT,),).start()\n",
    "\n",
    "while 1:\n",
    "    line = queue.get(True, 1)\n",
    "    print line"
   ]
  },
  {
   "cell_type": "code",
   "execution_count": 37,
   "metadata": {
    "collapsed": true
   },
   "outputs": [],
   "source": [
    "rma_tn.close()\n",
    "ref_tn.close()"
   ]
  },
  {
   "cell_type": "code",
   "execution_count": 4,
   "metadata": {},
   "outputs": [
    {
     "name": "stdout",
     "output_type": "stream",
     "text": [
      "0\n",
      "1\n",
      "2\n"
     ]
    }
   ],
   "source": [
    "for x in range(3):\n",
    "    print(x)"
   ]
  },
  {
   "cell_type": "code",
   "execution_count": 23,
   "metadata": {},
   "outputs": [
    {
     "name": "stdout",
     "output_type": "stream",
     "text": [
      "[\"b'03\", ' 03705679', '  22.1187', ' -0.00001', '1986.440', ' 1522.153', '  6.6858']\n"
     ]
    }
   ],
   "source": [
    "def sample_parser(ins, data):\n",
    "    split = data.split(\",\")[:-2]\n",
    "    print(split)\n",
    "\n",
    "sample_parser(452, \"b'03, 03705679,  22.1187, -0.00001,1986.440, 1522.153,  6.6858, 07 Mar 2018, 23:14:29\\\\r\\\\n<Executed/>\\\\r\\\\n'2018/03/07 15:08:24:720561\")\n",
    "\n"
   ]
  },
  {
   "cell_type": "code",
   "execution_count": null,
   "metadata": {
    "collapsed": true
   },
   "outputs": [],
   "source": [
    "\"b'03, 03705679,  22.1187, -0.00001,1986.440, 1522.153,  6.6858, 07 Mar 2018, 23:14:29\\\\r\\\\n<Executed/>\\\\r\\\\n'2018/03/07 15:08:24:720561\""
   ]
  }
 ],
 "metadata": {
  "kernelspec": {
   "display_name": "Python 3",
   "language": "python",
   "name": "python3"
  },
  "language_info": {
   "codemirror_mode": {
    "name": "ipython",
    "version": 3
   },
   "file_extension": ".py",
   "mimetype": "text/x-python",
   "name": "python",
   "nbconvert_exporter": "python",
   "pygments_lexer": "ipython3",
   "version": "3.6.3"
  }
 },
 "nbformat": 4,
 "nbformat_minor": 2
}
